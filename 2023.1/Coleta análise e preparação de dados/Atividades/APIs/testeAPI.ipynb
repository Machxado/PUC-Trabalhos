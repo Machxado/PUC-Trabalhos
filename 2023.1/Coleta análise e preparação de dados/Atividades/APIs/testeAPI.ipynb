{
 "cells": [
  {
   "cell_type": "code",
   "execution_count": 1,
   "metadata": {},
   "outputs": [],
   "source": [
    "import requests"
   ]
  },
  {
   "cell_type": "code",
   "execution_count": 8,
   "metadata": {},
   "outputs": [
    {
     "name": "stdout",
     "output_type": "stream",
     "text": [
      "{\n",
      "    \"1\": {\n",
      "        \"name\": \"Brasil\",\n",
      "        \"population\": 220000000\n",
      "    },\n",
      "    \"2\": {\n",
      "        \"name\": \"Estados Unidos\",\n",
      "        \"population\": 20000000\n",
      "    },\n",
      "    \"3\": {\n",
      "        \"name\": \"Argentina\",\n",
      "        \"population\": 6500000\n",
      "    }\n",
      "}\n",
      "\n"
     ]
    }
   ],
   "source": [
    "response=requests.get(r'http://127.0.0.1:5000/country')\n",
    "print(response.content.decode())"
   ]
  },
  {
   "cell_type": "code",
   "execution_count": 10,
   "metadata": {},
   "outputs": [
    {
     "name": "stdout",
     "output_type": "stream",
     "text": [
      "{\n",
      "    \"message\": \"Country 2 doesn't exist\"\n",
      "}\n",
      "\n"
     ]
    }
   ],
   "source": [
    "response=requests.delete(r'http://127.0.0.1:5000/country/2')\n",
    "print(response.content.decode())"
   ]
  },
  {
   "cell_type": "code",
   "execution_count": 14,
   "metadata": {},
   "outputs": [
    {
     "data": {
      "text/plain": [
       "<Response [201]>"
      ]
     },
     "execution_count": 14,
     "metadata": {},
     "output_type": "execute_result"
    }
   ],
   "source": [
    "meu_pais= {\n",
    "    'name' : 'Putaria',\n",
    "    'population': 3\n",
    "}\n",
    "requests.post(r'http://127.0.0.1:5000/country',json=meu_pais)\n",
    "\n"
   ]
  },
  {
   "cell_type": "code",
   "execution_count": 18,
   "metadata": {},
   "outputs": [
    {
     "data": {
      "text/plain": [
       "<Response [201]>"
      ]
     },
     "execution_count": 18,
     "metadata": {},
     "output_type": "execute_result"
    }
   ],
   "source": [
    "meu_pais= {\n",
    "    'name' : 'Putaria',\n",
    "    'population': 2\n",
    "}\n",
    "requests.put(r'http://127.0.0.1:5000/country/4',json=meu_pais)\n"
   ]
  }
 ],
 "metadata": {
  "kernelspec": {
   "display_name": "cpa",
   "language": "python",
   "name": "python3"
  },
  "language_info": {
   "codemirror_mode": {
    "name": "ipython",
    "version": 3
   },
   "file_extension": ".py",
   "mimetype": "text/x-python",
   "name": "python",
   "nbconvert_exporter": "python",
   "pygments_lexer": "ipython3",
   "version": "3.10.9"
  },
  "orig_nbformat": 4
 },
 "nbformat": 4,
 "nbformat_minor": 2
}
