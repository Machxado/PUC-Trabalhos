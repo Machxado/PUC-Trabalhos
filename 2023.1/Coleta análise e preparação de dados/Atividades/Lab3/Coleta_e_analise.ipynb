{
 "cells": [
  {
   "cell_type": "code",
   "execution_count": 2,
   "metadata": {},
   "outputs": [],
   "source": [
    "from pysus.online_data import SINAN, FTP_Inspect, parquets_to_dataframe\n",
    "import pandas as pd"
   ]
  },
  {
   "cell_type": "code",
   "execution_count": 8,
   "metadata": {},
   "outputs": [
    {
     "data": {
      "text/plain": [
       "['Animais Peçonhentos',\n",
       " 'Botulismo',\n",
       " 'Cancer',\n",
       " 'Chagas',\n",
       " 'Chikungunya',\n",
       " 'Colera',\n",
       " 'Coqueluche',\n",
       " 'Contact Communicable Disease',\n",
       " 'Acidentes de Trabalho',\n",
       " 'Dengue',\n",
       " 'Difteria',\n",
       " 'Esquistossomose',\n",
       " 'Febre Amarela',\n",
       " 'Febre Maculosa',\n",
       " 'Febre Tifoide',\n",
       " 'Hanseniase',\n",
       " 'Hantavirose',\n",
       " 'Hepatites Virais',\n",
       " 'Intoxicação Exógena',\n",
       " 'Leishmaniose Visceral',\n",
       " 'Leptospirose',\n",
       " 'Leishmaniose Tegumentar',\n",
       " 'Malaria',\n",
       " 'Meningite',\n",
       " 'Peste',\n",
       " 'Poliomielite',\n",
       " 'Raiva Humana',\n",
       " 'Sífilis Adquirida',\n",
       " 'Sífilis Congênita',\n",
       " 'Sífilis em Gestante',\n",
       " 'Tétano Acidental',\n",
       " 'Tétano Neonatal',\n",
       " 'Tuberculose',\n",
       " 'Violência Domestica',\n",
       " 'Zika']"
      ]
     },
     "execution_count": 8,
     "metadata": {},
     "output_type": "execute_result"
    }
   ],
   "source": [
    "SINAN.list_diseases()\n"
   ]
  }
 ],
 "metadata": {
  "kernelspec": {
   "display_name": "pySUS",
   "language": "python",
   "name": "python3"
  },
  "language_info": {
   "codemirror_mode": {
    "name": "ipython",
    "version": 3
   },
   "file_extension": ".py",
   "mimetype": "text/x-python",
   "name": "python",
   "nbconvert_exporter": "python",
   "pygments_lexer": "ipython3",
   "version": "3.11.3"
  },
  "orig_nbformat": 4
 },
 "nbformat": 4,
 "nbformat_minor": 2
}
