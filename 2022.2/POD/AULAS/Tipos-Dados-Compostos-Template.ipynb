{
 "cells": [
  {
   "cell_type": "markdown",
   "id": "1377f7cc",
   "metadata": {},
   "source": [
    "# [Prof. Dalvan Griebler](mailto:dalvan.griebler@pucrs.br)\n",
    "\n",
    "## Programação Orientada a Dados (POD) - Turma 10 (POD_98H04-06)\n",
    "\n",
    "**Atualizado**: 25/09/2021\n",
    "\n",
    "**Descrição**: Material de apoio as aulas sobre Python para POD\n",
    "\n",
    "**Copyright &copy;**: Este documento está sob a licensa da Criative Commons [BY-NC-ND 4.0](https://creativecommons.org/licenses/by-nc-nd/4.0/legalcode)"
   ]
  },
  {
   "cell_type": "markdown",
   "id": "8af8b9d1",
   "metadata": {},
   "source": [
    "# Tipos de Dados Compostos em Python"
   ]
  },
  {
   "cell_type": "markdown",
   "id": "72fde7fc",
   "metadata": {},
   "source": [
    "## Tuplas"
   ]
  },
  {
   "cell_type": "code",
   "execution_count": 9,
   "id": "f8fc4e31",
   "metadata": {
    "scrolled": true
   },
   "outputs": [
    {
     "name": "stdout",
     "output_type": "stream",
     "text": [
      "<class 'tuple'>\n",
      "(1, 3, 5, 'oi')\n",
      "5\n"
     ]
    }
   ],
   "source": [
    "t1 = (1,3,5,'oi')\n",
    "print(type(t1))\n",
    "print(t1)\n",
    "\n",
    "print(t1[2])"
   ]
  },
  {
   "cell_type": "markdown",
   "id": "d314593f",
   "metadata": {},
   "source": [
    "## Listas"
   ]
  },
  {
   "cell_type": "code",
   "execution_count": null,
   "id": "58f28181",
   "metadata": {},
   "outputs": [],
   "source": []
  },
  {
   "cell_type": "markdown",
   "id": "697cad90",
   "metadata": {},
   "source": [
    "# Exercício de Fixação: Conta Bancária (Cont-9)\n",
    "\n",
    "- Objetivo é trabalhar com coleções tal como uma lista \n",
    "    - Modifique a classe `ContaBancaria` de tal forma que é possível manter um histórico de transações.\n",
    "    - Uma transação é uma operação de depósito e saque junto de um valor.\n",
    "    - O histórico pode ser uma lista ordenada contendo as transações. \n",
    "    - Você pode definir uma classe `Transacao` com ações de depósito e saque\n",
    "    - Toda nova transação, você pode armazenar como lista. Note que você pode implementar o protocolo iterador na classe `ContaBancaria`.\n",
    "    - Espera-se que funcione da seguinte forma:\n",
    "\n",
    "```python\n",
    "for t  in conta1:\n",
    "    print(t)\n",
    "```\n",
    "Saída esperada:\n",
    "```bash\n",
    "Transacao[deposito: 11.05]\n",
    "Transacao[deposito: 43.35]\n",
    "Transacao[saque: 14.53]\n",
    "```"
   ]
  },
  {
   "cell_type": "code",
   "execution_count": null,
   "id": "2370d144",
   "metadata": {},
   "outputs": [],
   "source": []
  },
  {
   "cell_type": "markdown",
   "id": "505d0310",
   "metadata": {},
   "source": [
    "## Arranjos"
   ]
  },
  {
   "cell_type": "code",
   "execution_count": null,
   "id": "0eb35b29",
   "metadata": {},
   "outputs": [],
   "source": []
  },
  {
   "cell_type": "markdown",
   "id": "763e59f2",
   "metadata": {},
   "source": [
    "## Conjuntos"
   ]
  },
  {
   "cell_type": "code",
   "execution_count": null,
   "id": "bb5cce92",
   "metadata": {},
   "outputs": [],
   "source": []
  },
  {
   "cell_type": "markdown",
   "id": "57e40c57",
   "metadata": {},
   "source": [
    "# Exercícios de Fixação sobre Conjunto\n",
    "\n",
    "+ O objetivo é exercitar o uso de conjuntos\n",
    "    - Crie dois conjuntos de estudantes\n",
    "        - Um conjunto para os estudantes que fizeram o trabalho da disciplina\n",
    "        - Um conjunto para os estudante que pegou exame\n",
    "    - Use estes dois conjuntos para responder as seguintes perguntas:\n",
    "        - Quais estudantes fizeram o trabalho e pegaram o exame?\n",
    "        - Quais estudantes somente pegaram exame?\n",
    "        - Quais estudante somente fizeram o trabalho?\n",
    "        - Liste todos os estudantes que fizeram um de ambos: trabalho e exame\n",
    "        - Liste todos os estudantes que não fizeram um de ambos: trabalho e exame\n"
   ]
  },
  {
   "cell_type": "code",
   "execution_count": null,
   "id": "f8e3b04c",
   "metadata": {},
   "outputs": [],
   "source": []
  },
  {
   "cell_type": "markdown",
   "id": "19bb51e1",
   "metadata": {},
   "source": [
    "## Dicionários"
   ]
  },
  {
   "cell_type": "code",
   "execution_count": null,
   "id": "c53ff56f",
   "metadata": {},
   "outputs": [],
   "source": []
  }
 ],
 "metadata": {
  "kernelspec": {
   "display_name": "Python 3.10.7 64-bit (microsoft store)",
   "language": "python",
   "name": "python3"
  },
  "language_info": {
   "codemirror_mode": {
    "name": "ipython",
    "version": 3
   },
   "file_extension": ".py",
   "mimetype": "text/x-python",
   "name": "python",
   "nbconvert_exporter": "python",
   "pygments_lexer": "ipython3",
   "version": "3.10.7"
  },
  "vscode": {
   "interpreter": {
    "hash": "2ec1ab3a7492c682861eb248a34c624e35e5f607dace7fc7e85d983a5f829e20"
   }
  }
 },
 "nbformat": 4,
 "nbformat_minor": 5
}
