{
 "cells": [
  {
   "cell_type": "markdown",
   "id": "8f82236e",
   "metadata": {},
   "source": [
    "# [Prof. Dalvan Griebler](mailto:dalvan.griebler@pucrs.br)\n",
    "\n",
    "## Programação Orientada a Dados (POD) - Turma 10 (POD_98H04-06)\n",
    "\n",
    "**Atualizado**: 10/10/2021\n",
    "\n",
    "**Descrição**: Material de apoio as aulas sobre Python para POD\n",
    "\n",
    "**Copyright &copy;**: Este documento está sob a licensa da Criative Commons [BY-NC-ND 4.0](https://creativecommons.org/licenses/by-nc-nd/4.0/legalcode)"
   ]
  },
  {
   "cell_type": "markdown",
   "id": "e0905887",
   "metadata": {},
   "source": [
    "# Funções de Alta Ordem em Python"
   ]
  },
  {
   "cell_type": "code",
   "execution_count": 11,
   "id": "82fe7c85",
   "metadata": {},
   "outputs": [
    {
     "name": "stdout",
     "output_type": "stream",
     "text": [
      "Hoje é aula de POD\n",
      "Hoje é aula de POD\n",
      "<function retorna_mensagem at 0x00000152737495A0>\n"
     ]
    }
   ],
   "source": [
    "def retorna_mensagem():\n",
    "    return \"Hoje é aula de POD\"\n",
    "print(retorna_mensagem())\n",
    "\n",
    "var=retorna_mensagem\n",
    "print(var())\n",
    "print(var)"
   ]
  },
  {
   "cell_type": "code",
   "execution_count": 13,
   "id": "40708051",
   "metadata": {},
   "outputs": [
    {
     "name": "stdout",
     "output_type": "stream",
     "text": [
      "False\n"
     ]
    }
   ],
   "source": [
    "def retorna_func_teste(s):\n",
    "    if s == 'par':\n",
    "        return lambda n: n%2 == 0\n",
    "    elif s == 'positivo':\n",
    "        return lambda n: n>=0\n",
    "    elif s == 'impar':\n",
    "        return lambda n: n<0\n",
    "\n",
    "e_par = retorna_func_teste(\"par\")\n",
    "e_positivo = retorna_func_teste(\"positivo\")\n",
    "e_impar = retorna_func_teste(\"impar\")\n",
    "\n",
    "print(e_par(11))"
   ]
  },
  {
   "cell_type": "markdown",
   "id": "ddaac46f",
   "metadata": {},
   "source": [
    "# Funções Curry em Python"
   ]
  },
  {
   "cell_type": "code",
   "execution_count": null,
   "id": "49dc380d",
   "metadata": {},
   "outputs": [],
   "source": [
    "somar = lambda x: lambda y: x+y\n",
    "\n",
    "inc "
   ]
  },
  {
   "cell_type": "markdown",
   "id": "f0d69cf6",
   "metadata": {},
   "source": [
    "# Conceito de Closure em Python"
   ]
  },
  {
   "cell_type": "code",
   "execution_count": 15,
   "id": "d26b2583",
   "metadata": {},
   "outputs": [
    {
     "name": "stdout",
     "output_type": "stream",
     "text": [
      "3\n"
     ]
    }
   ],
   "source": [
    "\n",
    "def cria_incrementador(n):\n",
    "    def inc(x):\n",
    "        return x+n\n",
    "    return inc\n",
    "\n",
    "meuinc1 = cria_incrementador(1)\n",
    "print(meuinc1(2))"
   ]
  },
  {
   "cell_type": "markdown",
   "id": "e602b290",
   "metadata": {},
   "source": [
    "# Aquecimento para os exercícios"
   ]
  },
  {
   "cell_type": "code",
   "execution_count": null,
   "id": "c5cf01a8",
   "metadata": {},
   "outputs": [],
   "source": []
  },
  {
   "cell_type": "markdown",
   "id": "8b87688b",
   "metadata": {},
   "source": [
    "# Exercícios de Fixação "
   ]
  },
  {
   "cell_type": "markdown",
   "id": "c76dc627",
   "metadata": {},
   "source": [
    "1. Use o conceito de funções curry para converter uma quantidade de uma moeda em outra dado uma taxa de conversão.\n",
    "    - Crie uma função chamada `curry()` que recebe como argumento uma função.\n",
    "    - Defina uma função que será usada para converter uma quantidade em outra quantidade baseado na taxa de conversão. Essa função apenas multiplica a quantidade pela taxa.\n",
    "    - Agora você pode criar um conjunto de funções que serão usadas para converter uma determinada quantidade de uma moeda em uma quantidade de outra moeda. Queremos evitar de especificar toda vez a taxa de conversão e apenas chamar a função com o quantidade.\n",
    "2. Faça uma função pura `factL`, que calcule o fatorial para cada elemento de uma lista encadeada e retorne uma nova lista encadeada. Use a função de teste criada anteriormente.\n",
    "3. Faça uma função pura `strL`, que converte em string cada elemento de uma lista encadeada, retornando uma nova lista. Use a função de teste criada anteriormente."
   ]
  },
  {
   "cell_type": "code",
   "execution_count": 1,
   "id": "3e91dbe2",
   "metadata": {},
   "outputs": [
    {
     "ename": "NameError",
     "evalue": "name 'converter' is not defined",
     "output_type": "error",
     "traceback": [
      "\u001b[1;31m---------------------------------------------------------------------------\u001b[0m",
      "\u001b[1;31mNameError\u001b[0m                                 Traceback (most recent call last)",
      "Cell \u001b[1;32mIn [1], line 8\u001b[0m\n\u001b[0;32m      5\u001b[0m             \u001b[39mreturn\u001b[39;00m value\u001b[39m*\u001b[39mvalue\n\u001b[0;32m      6\u001b[0m     \u001b[39mreturn\u001b[39;00m converter\n\u001b[1;32m----> 8\u001b[0m e1 \u001b[39m=\u001b[39m curry(converter)\n\u001b[0;32m      9\u001b[0m \u001b[39mprint\u001b[39m(e1(\u001b[39m2\u001b[39m))\n",
      "\u001b[1;31mNameError\u001b[0m: name 'converter' is not defined"
     ]
    }
   ],
   "source": [
    "#1\n",
    "def curry(func,val):\n",
    "    return func(val)\n",
    "    def converter(value):\n",
    "            return value*value\n",
    "    return converter\n",
    "\n",
    "e1 = curry(converter)\n",
    "print(e1(2))"
   ]
  },
  {
   "cell_type": "code",
   "execution_count": null,
   "id": "befede91",
   "metadata": {},
   "outputs": [],
   "source": []
  }
 ],
 "metadata": {
  "kernelspec": {
   "display_name": "Python 3.10.8 64-bit (microsoft store)",
   "language": "python",
   "name": "python3"
  },
  "language_info": {
   "codemirror_mode": {
    "name": "ipython",
    "version": 3
   },
   "file_extension": ".py",
   "mimetype": "text/x-python",
   "name": "python",
   "nbconvert_exporter": "python",
   "pygments_lexer": "ipython3",
   "version": "3.10.8"
  },
  "vscode": {
   "interpreter": {
    "hash": "2ec1ab3a7492c682861eb248a34c624e35e5f607dace7fc7e85d983a5f829e20"
   }
  }
 },
 "nbformat": 4,
 "nbformat_minor": 5
}
