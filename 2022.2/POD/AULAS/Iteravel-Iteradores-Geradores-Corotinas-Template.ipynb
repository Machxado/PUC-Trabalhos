{
 "cells": [
  {
   "cell_type": "markdown",
   "id": "1748ae2e",
   "metadata": {},
   "source": [
    "# [Prof. Dalvan Griebler](mailto:dalvan.griebler@pucrs.br)\n",
    "\n",
    "## Programação Orientada a Dados (POD) - Turma 10 (POD_98H04-06)\n",
    "\n",
    "**Atualizado**: 20/09/2021\n",
    "\n",
    "**Descrição**: Material de apoio as aulas sobre Python para POD\n",
    "\n",
    "**Copyright &copy;**: Este documento está sob a licensa da Criative Commons [BY-NC-ND 4.0](https://creativecommons.org/licenses/by-nc-nd/4.0/legalcode)"
   ]
  },
  {
   "cell_type": "markdown",
   "id": "d94dc6c0",
   "metadata": {},
   "source": [
    "# Iterável, Iteradores, Geradores e Co-rotinas em Python"
   ]
  },
  {
   "cell_type": "markdown",
   "id": "707b6084",
   "metadata": {},
   "source": [
    "## Iterável e Iteradores"
   ]
  },
  {
   "cell_type": "code",
   "execution_count": 1,
   "id": "e145ec8c",
   "metadata": {},
   "outputs": [
    {
     "name": "stdout",
     "output_type": "stream",
     "text": [
      "2\n",
      "4\n",
      "6\n",
      "8\n",
      "10\n"
     ]
    }
   ],
   "source": [
    "class Pares():\n",
    "    def __init__(self,limite):\n",
    "        self.__limite = limite\n",
    "        self.__valor=0\n",
    "    def __iter__(self):\n",
    "        return self\n",
    "    def __next__(self):\n",
    "        if self.__valor >= self.__limite:\n",
    "            raise StopIteration\n",
    "        else:\n",
    "            self.__valor+=2\n",
    "            return self.__valor\n",
    "\n",
    "\n",
    "for i in Pares(10):\n",
    "    print(i)"
   ]
  },
  {
   "cell_type": "markdown",
   "id": "8728b23c",
   "metadata": {},
   "source": [
    "## Geradores (produtores de dados)"
   ]
  },
  {
   "cell_type": "code",
   "execution_count": 6,
   "id": "7c2f3b7e",
   "metadata": {},
   "outputs": [],
   "source": [
    "def gerador():\n",
    "    yield 2\n",
    "    yield 8\n",
    "    yield 5\n",
    "\n"
   ]
  },
  {
   "cell_type": "code",
   "execution_count": null,
   "id": "cda16de3",
   "metadata": {},
   "outputs": [],
   "source": [
    "def pares(limite):\n",
    "    valor=0\n",
    "    while valor<=limite:\n",
    "        yield valor\n",
    "        valor+=2\n"
   ]
  },
  {
   "cell_type": "markdown",
   "id": "b3abcd86",
   "metadata": {},
   "source": [
    "## Co-rotinas (consumidores de dados)"
   ]
  },
  {
   "cell_type": "code",
   "execution_count": 11,
   "id": "19a1a953",
   "metadata": {},
   "outputs": [
    {
     "name": "stdout",
     "output_type": "stream",
     "text": [
      "começou Python\n",
      "Python é legal\n",
      "Saindo da co-rotina\n"
     ]
    }
   ],
   "source": [
    "def encontrar(padrao):\n",
    "    print('começou',padrao)\n",
    "    try:\n",
    "        while True:\n",
    "            linha = yield\n",
    "            if padrao in linha:\n",
    "                print(linha)\n",
    "    except GeneratorExit:\n",
    "        print('Saindo da co-rotina')\n",
    "e = encontrar('Python')\n",
    "next(e)\n",
    "\n",
    "e.send(\"Java é çlegal\")\n",
    "e.send(\"Python é legal\")\n",
    "\n",
    "e.close()"
   ]
  },
  {
   "cell_type": "markdown",
   "id": "5168a0aa",
   "metadata": {},
   "source": [
    "# Exercícios de Fixação sobre Geradores\n",
    "\n",
    "Implemente um gerador de números primos que precisa ter um limite `gerador_numero_primo(limite)`. Você precisa ser capaz de rodar o seguinte código\n",
    "```python\n",
    "numero = input(\"Digite um número:\")\n",
    "if numero.isnumeric():\n",
    "    num = int(numero)\n",
    "    if num <= 2:\n",
    "        print(\"Seu número precisa ser > 2\")\n",
    "    else:\n",
    "        for primo in gerador_numero_primo(num):\n",
    "            print(primo, end=', ')\n",
    "else:\n",
    "    print(\"Precisa ser um número positivo inteiro!\")\n",
    "```\n",
    "\n",
    "Depois, crie um gerador de números primos infinito `gerador_numero_primo_infinito()`, sendo capaz de gerar números primos até que não seja mais usado. Teste usando `next()`. Neste caso, será teste com seguinte código.\n",
    "\n",
    "```python\n",
    "primo = gerador_numero_primo_infinito()\n",
    "print(next(primo))\n",
    "print(next(primo))\n",
    "print(next(primo))\n",
    "print(next(primo))\n",
    "print(next(primo))\n",
    "\n",
    "```"
   ]
  },
  {
   "cell_type": "code",
   "execution_count": 28,
   "id": "ce7bb4a5",
   "metadata": {},
   "outputs": [
    {
     "name": "stdout",
     "output_type": "stream",
     "text": [
      "3\n"
     ]
    }
   ],
   "source": [
    "def gera_primo(limite):\n",
    "    valor=1\n",
    "    count=0\n",
    "    while valor < limite:\n",
    "        for i in range (1,valor):\n",
    "            if valor%i==0:\n",
    "                count+=1\n",
    "                if count == 2:\n",
    "                    yield valor\n",
    "        valor+=1\n",
    "\n",
    "p = gera_primo(10)\n",
    "\n",
    "print(next(p))\n",
    "\n",
    "\n"
   ]
  }
 ],
 "metadata": {
  "kernelspec": {
   "display_name": "Python 3.10.7 64-bit (microsoft store)",
   "language": "python",
   "name": "python3"
  },
  "language_info": {
   "codemirror_mode": {
    "name": "ipython",
    "version": 3
   },
   "file_extension": ".py",
   "mimetype": "text/x-python",
   "name": "python",
   "nbconvert_exporter": "python",
   "pygments_lexer": "ipython3",
   "version": "3.10.7"
  },
  "vscode": {
   "interpreter": {
    "hash": "2ec1ab3a7492c682861eb248a34c624e35e5f607dace7fc7e85d983a5f829e20"
   }
  }
 },
 "nbformat": 4,
 "nbformat_minor": 5
}
