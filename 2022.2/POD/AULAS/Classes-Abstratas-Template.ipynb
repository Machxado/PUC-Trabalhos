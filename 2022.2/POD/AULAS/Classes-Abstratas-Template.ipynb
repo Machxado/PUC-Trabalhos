{
 "cells": [
  {
   "cell_type": "markdown",
   "id": "71504944",
   "metadata": {},
   "source": [
    "# [Prof. Dalvan Griebler](mailto:dalvan.griebler@pucrs.br)\n",
    "\n",
    "## Programação Orientada a Dados (POD) - Turma 10 (POD_98H04-06)\n",
    "\n",
    "**Atualizado**: 15/09/2021\n",
    "\n",
    "**Descrição**: Material de apoio as aulas sobre Python para POD\n",
    "\n",
    "**Copyright &copy;**: Este documento está sob a licensa da Criative Commons [BY-NC-ND 4.0](https://creativecommons.org/licenses/by-nc-nd/4.0/legalcode)"
   ]
  },
  {
   "cell_type": "markdown",
   "id": "6f27215b",
   "metadata": {},
   "source": [
    "# Classes Abstratas em Python"
   ]
  },
  {
   "cell_type": "code",
   "execution_count": null,
   "id": "dfaae971",
   "metadata": {},
   "outputs": [],
   "source": []
  },
  {
   "cell_type": "markdown",
   "id": "b6be41fe",
   "metadata": {},
   "source": [
    "## Definindo Classes Abstratas"
   ]
  },
  {
   "cell_type": "markdown",
   "id": "ec12d9cc",
   "metadata": {},
   "source": [
    "from abc import ABCMeta, abstractmethod\n",
    "class NossaABC(metaclass=ABCMeta):\n",
    "    def __init__(self,nome):\n",
    "        self.nome = nome\n",
    "    @abstractmethod\n",
    "    def __str__(self):pass\n",
    "    @property\n",
    "    @abstractmethod\n",
    "    def nome(self): pass\n",
    "    @nome.setter\n",
    "    @abstractmethod\n",
    "    def nome(self, valor): pass\n",
    "\n",
    "\n",
    "#obj=NossaABC(\"ABC\")\n",
    "#print(obj)\n",
    "\n",
    "class NovaClasse(NossaABC):\n",
    "    def __init__(self,nome):\n",
    "        super().__init__(nome)\n",
    "    @property\n",
    "    def nome(self):\n",
    "        return self._nome\n",
    "    @nome.setter\n",
    "    def nome(self,valor):\n",
    "        self._nome = valor\n",
    "    def __str__(self):\n",
    "        return 'meu nome é ' + str(self.nome)\n",
    "\n",
    "\n",
    "obj=NovaClasse('vitor')\n",
    "print(obj)"
   ]
  },
  {
   "cell_type": "markdown",
   "id": "0af6e07d",
   "metadata": {},
   "source": [
    "## Subclasses Virtuais"
   ]
  },
  {
   "cell_type": "code",
   "execution_count": null,
   "id": "54eefff6",
   "metadata": {},
   "outputs": [],
   "source": []
  },
  {
   "cell_type": "markdown",
   "id": "81e4b445",
   "metadata": {},
   "source": [
    "## Classes Mistas"
   ]
  },
  {
   "cell_type": "code",
   "execution_count": null,
   "id": "c6e04ee3",
   "metadata": {},
   "outputs": [],
   "source": []
  },
  {
   "cell_type": "markdown",
   "id": "40d5a426",
   "metadata": {},
   "source": [
    "# Exercício de Fixação: Conta Bancária (Cont-6)"
   ]
  },
  {
   "cell_type": "markdown",
   "id": "bf5f1148",
   "metadata": {},
   "source": [
    "O objetivo é implementar uma classe abstrata (ABC) na classe `ContaBancaria`, que tem sido uma classe concreta. Assim, a criação das contas vai se parecer da seguinte forma.\n",
    "```python\n",
    "conta1 = ContaCorrente(\"343\", \"Ceatano\", 20.50, 115.50)\n",
    "conta2 = ContaDeposito(\"355\", \"Morgana\", 53.45, 1.5)\n",
    "conta3 = ContaInvestimento(\"357\", \"Guilherme\", 82.55, \"Risco Alto\")\n",
    "```"
   ]
  },
  {
   "cell_type": "code",
   "execution_count": null,
   "id": "fadf32fd",
   "metadata": {},
   "outputs": [],
   "source": []
  }
 ],
 "metadata": {
  "kernelspec": {
   "display_name": "Python 3.10.7 64-bit (microsoft store)",
   "language": "python",
   "name": "python3"
  },
  "language_info": {
   "codemirror_mode": {
    "name": "ipython",
    "version": 3
   },
   "file_extension": ".py",
   "mimetype": "text/x-python",
   "name": "python",
   "nbconvert_exporter": "python",
   "pygments_lexer": "ipython3",
   "version": "3.10.7"
  },
  "vscode": {
   "interpreter": {
    "hash": "2ec1ab3a7492c682861eb248a34c624e35e5f607dace7fc7e85d983a5f829e20"
   }
  }
 },
 "nbformat": 4,
 "nbformat_minor": 5
}
