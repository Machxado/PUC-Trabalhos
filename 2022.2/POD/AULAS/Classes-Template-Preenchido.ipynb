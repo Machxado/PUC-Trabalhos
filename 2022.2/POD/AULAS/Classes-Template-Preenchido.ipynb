{
 "cells": [
  {
   "cell_type": "markdown",
   "id": "317f32b1-117a-4946-bd9c-47dd37f78ef1",
   "metadata": {},
   "source": [
    "# [Prof. Dalvan Griebler](mailto:dalvan.griebler@pucrs.br)\n",
    "\n",
    "## Programação Orientada a Dados (POD) - Turma 10 (POD_98H04-06)\n",
    "\n",
    "**Atualizado**: 31/08/2021\n",
    "\n",
    "**Descrição**: Material de apoio as aulas sobre Python para POD\n",
    "\n",
    "**Copyright &copy;**: Este documento está sob a licensa da Criative Commons [BY-NC-ND 4.0](https://creativecommons.org/licenses/by-nc-nd/4.0/legalcode)"
   ]
  },
  {
   "cell_type": "markdown",
   "id": "ee86f7eb-5297-49d3-b4d1-f6824052b6fb",
   "metadata": {},
   "source": [
    "# Classes em Python"
   ]
  },
  {
   "cell_type": "markdown",
   "id": "e4bf793d-e4e3-4873-a292-70742cec42ab",
   "metadata": {},
   "source": [
    "Tudo em python é um objeto de uma classe de coisas."
   ]
  },
  {
   "cell_type": "code",
   "execution_count": null,
   "id": "d2a38b25-1b32-4582-b590-37bc74eb85b8",
   "metadata": {},
   "outputs": [
    {
     "name": "stdout",
     "output_type": "stream",
     "text": [
      "<class 'int'>\n",
      "<class 'float'>\n",
      "<class 'bool'>\n",
      "<class 'str'>\n",
      "<class 'list'>\n"
     ]
    }
   ],
   "source": [
    "print(type(4))\n",
    "print(type(5.6))\n",
    "print(type(True))\n",
    "print(type('Dalvan'))\n",
    "print(type([1, 2, 3, 4]))"
   ]
  },
  {
   "cell_type": "markdown",
   "id": "7a9d5820-972d-4259-8b67-4af33e1a4cb8",
   "metadata": {},
   "source": [
    "## Definição de Classes"
   ]
  },
  {
   "cell_type": "code",
   "execution_count": 3,
   "id": "baccdf64-cfb2-46a3-b8d7-178624c3f3ec",
   "metadata": {},
   "outputs": [],
   "source": [
    "class MinhaClasse():\n",
    "    pass"
   ]
  },
  {
   "cell_type": "code",
   "execution_count": 7,
   "id": "2db12592",
   "metadata": {},
   "outputs": [
    {
     "name": "stdout",
     "output_type": "stream",
     "text": [
      "140700313676432\n",
      "140700313822688\n"
     ]
    }
   ],
   "source": [
    "class Pessoa:\n",
    "    def __init__(self, nome, idade):\n",
    "        self.nome = nome\n",
    "        self.idade = idade\n",
    "        \n",
    "P1=Pessoa(\"Gabriela\", 18)\n",
    "P2=Pessoa(\"Lucca\", 19)\n",
    "print(id(P1))\n",
    "print(id(P2))"
   ]
  },
  {
   "cell_type": "code",
   "execution_count": 18,
   "id": "14c73bc5",
   "metadata": {},
   "outputs": [
    {
     "name": "stdout",
     "output_type": "stream",
     "text": [
      "140700313676432\n",
      "140700313676432\n",
      "<__main__.Pessoa object at 0x7ff758376a90>\n",
      "<__main__.Pessoa object at 0x7ff758376a90>\n"
     ]
    }
   ],
   "source": [
    "PX = P1\n",
    "print(id(P1))\n",
    "print(id(PX))\n",
    "print(P1)\n",
    "print(PX)"
   ]
  },
  {
   "cell_type": "code",
   "execution_count": 20,
   "id": "afae9bac",
   "metadata": {},
   "outputs": [
    {
     "name": "stdout",
     "output_type": "stream",
     "text": [
      "Gabriela 18\n",
      "Lucca 19\n"
     ]
    }
   ],
   "source": [
    "print(P1.nome, P1.idade)\n",
    "print(P2.nome, P2.idade)"
   ]
  },
  {
   "cell_type": "code",
   "execution_count": 22,
   "id": "e382b946",
   "metadata": {},
   "outputs": [
    {
     "name": "stdout",
     "output_type": "stream",
     "text": [
      "Gabriella 20\n"
     ]
    }
   ],
   "source": [
    "P1.nome=\"Gabriella\"\n",
    "P1.idade=20\n",
    "print(P1.nome, P1.idade)"
   ]
  },
  {
   "cell_type": "code",
   "execution_count": 26,
   "id": "296641bb",
   "metadata": {},
   "outputs": [
    {
     "name": "stdout",
     "output_type": "stream",
     "text": [
      "Gabriela possui 18 anos\n",
      "Lucca possui 19 anos\n"
     ]
    }
   ],
   "source": [
    "class Pessoa:\n",
    "    \"\"\"Exemplo de classe que armazena\n",
    "     nome e idade de pessoas.\"\"\"\n",
    "    def __init__(self, nome, idade):\n",
    "        self.nome = nome\n",
    "        self.idade = idade\n",
    "    def __str__(self):\n",
    "        return self.nome + \" possui \" + str(self.idade) + \" anos\"\n",
    "    \n",
    "P1=Pessoa(\"Gabriela\", 18)\n",
    "P2=Pessoa(\"Lucca\", 19)\n",
    "print(P1)\n",
    "print(P2)"
   ]
  },
  {
   "cell_type": "markdown",
   "id": "dd2bda27-7c46-4840-b730-1aae9b555cd7",
   "metadata": {},
   "source": [
    "## Métodos da Instância da Classe"
   ]
  },
  {
   "cell_type": "code",
   "execution_count": 15,
   "id": "65cdd53a-b743-4080-9b79-3e1cd5d4e4e1",
   "metadata": {},
   "outputs": [
    {
     "name": "stdout",
     "output_type": "stream",
     "text": [
      "Carlos possui 30 anos\n",
      "Carlos possui 31 anos\n",
      "É adolecente?  False\n"
     ]
    }
   ],
   "source": [
    "class Pessoa:\n",
    "    \"\"\"Exemplo de classe que armazena\n",
    "     nome e idade de pessoas.\"\"\"\n",
    "    def __init__(self, nome, idade):\n",
    "        self.nome = nome\n",
    "        self.idade = idade\n",
    "    def __str__(self):\n",
    "        return self.nome + \" possui \" + str(self.idade) + \" anos\"\n",
    "    \n",
    "    def aniversario(self):\n",
    "        self.idade+=1\n",
    "        \n",
    "    def testa_adolecente(self):\n",
    "        return (self.idade>11 and self.idade < 20)\n",
    "    \n",
    "P4=Pessoa(\"Carlos\", 30)\n",
    "print(P4)\n",
    "P4.aniversario()\n",
    "print(P4)\n",
    "print(\"É adolecente? \", P4.testa_adolecente())"
   ]
  },
  {
   "cell_type": "markdown",
   "id": "51bf713c-f4ba-4c6c-8f9f-83d731c7bda7",
   "metadata": {},
   "source": [
    "## Gerenciamento de memória"
   ]
  },
  {
   "cell_type": "code",
   "execution_count": 16,
   "id": "1f369548-91c6-45f9-88ae-1d37eab9af57",
   "metadata": {},
   "outputs": [
    {
     "name": "stdout",
     "output_type": "stream",
     "text": [
      "Carlos\n",
      "31\n"
     ]
    }
   ],
   "source": [
    "print(P4.nome)\n",
    "print(P4.idade)\n",
    "del P4.idade\n",
    "del P4.nome\n",
    "del P4\n",
    "del Pessoa"
   ]
  },
  {
   "cell_type": "markdown",
   "id": "98a8d993-93c8-42c4-8876-0b614844a09f",
   "metadata": {},
   "source": [
    "## Exercício Conta Bancária"
   ]
  },
  {
   "cell_type": "markdown",
   "id": "7a4b9ef1-5960-4663-a927-48b35f815834",
   "metadata": {},
   "source": [
    "1. Defina a classe `ContaBancaria`\n",
    "2. Ao instanciar a classe, forneça:\n",
    "    - número da conta\n",
    "    - nome da pessoa\n",
    "    - balanço inicia (em reais)\n",
    "    - tipo de conta (corrente, poupança ou investimento)\n",
    "3. Fornecer três métodos de instância para esta classe\n",
    "    - `deposito(quantidade)` para efetuar o depóstio\n",
    "    - `saque(quantidade)` para efetuar o saque\n",
    "    - `saldo()`   para obter o saldo da conta \n",
    "4. Monte um teste em que você realize todas as operações bancárias, segue um exemplo de teste:\n",
    "```\n",
    "conta1 = ContaBancaria('001', 'Caetano', 10.05, 'corrente')\n",
    "conta2 = ContaBancaria('002', 'Guilherme', 23.55, 'poupança')\n",
    "conta3 = ContaBancaria('003', 'Dalvan', 12.45, 'investimento')\n",
    "print(conta1)\n",
    "print(conta2)\n",
    "print(conta3)\n",
    "conta1.deposito(44.45)\n",
    "conta1.saque(33.33)\n",
    "print('Saldo:', conta1.saldo())\n",
    "```"
   ]
  },
  {
   "cell_type": "code",
   "execution_count": null,
   "id": "996561d4-41fb-4ec7-841d-f7e7f05cb6e4",
   "metadata": {},
   "outputs": [],
   "source": []
  },
  {
   "cell_type": "markdown",
   "id": "5cd1ca06-406b-4962-87c7-f2cb7bd85187",
   "metadata": {},
   "source": [
    "## Métodos da Classe"
   ]
  },
  {
   "cell_type": "code",
   "execution_count": 29,
   "id": "2b1d4454-b115-48ac-a2cb-66c6e281fad1",
   "metadata": {},
   "outputs": [
    {
     "name": "stdout",
     "output_type": "stream",
     "text": [
      "Incrementou!\n",
      "Incrementou!\n",
      "2\n",
      "2\n"
     ]
    }
   ],
   "source": [
    "class Pessoa:\n",
    "    \"\"\"Exemplo de classe que armazena\n",
    "     nome e idade de pessoas.\"\"\"\n",
    "    contar=0\n",
    "    @classmethod\n",
    "    def incre_inst(cls):\n",
    "        print(\"Incrementou!\")\n",
    "        cls.contar+=1\n",
    "    def __init__(self, nome, idade):\n",
    "        Pessoa.incre_inst()\n",
    "        self.nome = nome\n",
    "        self.idade = idade\n",
    "    def __str__(self):\n",
    "        return self.nome + \" possui \" + str(self.idade) + \" anos\"\n",
    "    \n",
    "    def aniversario(self):\n",
    "        self.idade+=1\n",
    "        \n",
    "    def testa_adolecente(self):\n",
    "        return (self.idade>11 and self.idade < 20)\n",
    "    \n",
    "P1=Pessoa(\"Carlos\", 30)\n",
    "P2=Pessoa(\"Vitor\", 30)\n",
    "print(Pessoa.contar)\n",
    "print(P1.contar)\n",
    "# P1.incre_inst()\n",
    "# print(Pessoa.contar)"
   ]
  },
  {
   "cell_type": "markdown",
   "id": "25130d2f-9839-41f5-88c4-50a11edccfe7",
   "metadata": {},
   "source": [
    "## Métodos Estáticos"
   ]
  },
  {
   "cell_type": "code",
   "execution_count": 31,
   "id": "eb6321e7-6ea6-48ea-9157-d1a4731345c2",
   "metadata": {},
   "outputs": [
    {
     "name": "stdout",
     "output_type": "stream",
     "text": [
      "Incrementou!\n",
      "Incrementou!\n",
      "2\n",
      "2\n",
      "Faz uma seguencia de comandos!\n",
      "Faz uma seguencia de comandos!\n"
     ]
    }
   ],
   "source": [
    "class Pessoa:\n",
    "    \"\"\"Exemplo de classe que armazena\n",
    "     nome e idade de pessoas.\"\"\"\n",
    "    contar=0\n",
    "    @classmethod\n",
    "    def incre_inst(cls):\n",
    "        print(\"Incrementou!\")\n",
    "        cls.contar+=1\n",
    "    def __init__(self, nome, idade):\n",
    "        Pessoa.incre_inst()\n",
    "        self.nome = nome\n",
    "        self.idade = idade\n",
    "    def __str__(self):\n",
    "        return self.nome + \" possui \" + str(self.idade) + \" anos\"\n",
    "    \n",
    "    def aniversario(self):\n",
    "        self.idade+=1\n",
    "        \n",
    "    def testa_adolecente(self):\n",
    "        return (self.idade>11 and self.idade < 20)\n",
    "    \n",
    "    @staticmethod\n",
    "    def metodo_estatico():\n",
    "        return \"Faz uma seguencia de comandos!\"\n",
    "    \n",
    "P1=Pessoa(\"Carlos\", 30)\n",
    "P2=Pessoa(\"Vitor\", 30)\n",
    "print(Pessoa.contar)\n",
    "print(P1.contar)\n",
    "print(P1.metodo_estatico())\n",
    "print(Pessoa.metodo_estatico())"
   ]
  },
  {
   "cell_type": "markdown",
   "id": "6d7db5f1-873b-452d-beab-64bcae3f082b",
   "metadata": {},
   "source": [
    "## Exercício Conta Bancária (Continuação 1)"
   ]
  },
  {
   "cell_type": "markdown",
   "id": "c2d413e4-d11e-4e8f-9b52-4e5cd7c89632",
   "metadata": {},
   "source": [
    "1. Permita o rastreamento do número de instâncias criadas da classe `ContaBancaria`\n",
    "2. Mostre na tela uma mensagem toda vez que uma instância da classe é criada\n",
    "3. Mostre na tela a quantidade de contas criadas"
   ]
  },
  {
   "cell_type": "code",
   "execution_count": null,
   "id": "188c8e7e-fdb2-48cd-bb10-d993090948d3",
   "metadata": {},
   "outputs": [],
   "source": []
  },
  {
   "cell_type": "markdown",
   "id": "f7db7e38-f231-4119-927e-4bf67ba76eb2",
   "metadata": {},
   "source": [
    "## Herança de Classes"
   ]
  },
  {
   "cell_type": "code",
   "execution_count": 33,
   "id": "60a576d1-db2a-4d19-9d43-48f3bc1931eb",
   "metadata": {},
   "outputs": [
    {
     "name": "stdout",
     "output_type": "stream",
     "text": [
      "Incrementou!\n",
      "Luise possui 18 anos\n",
      "1\n"
     ]
    }
   ],
   "source": [
    "class Pessoa:\n",
    "    \"\"\"Exemplo de classe que armazena\n",
    "     nome e idade de pessoas.\"\"\"\n",
    "    contar=0\n",
    "    @classmethod\n",
    "    def incre_inst(cls):\n",
    "        print(\"Incrementou!\")\n",
    "        cls.contar+=1\n",
    "    def __init__(self, nome, idade):\n",
    "        Pessoa.incre_inst()\n",
    "        self.nome = nome\n",
    "        self.idade = idade\n",
    "    def __str__(self):\n",
    "        return self.nome + \" possui \" + str(self.idade) + \" anos\"\n",
    "    \n",
    "    def aniversario(self):\n",
    "        self.idade+=1\n",
    "\n",
    "class Estudante(Pessoa):\n",
    "    def __init__(self, nome, idade, ano):\n",
    "        super().__init__(nome, idade)\n",
    "        self.ano_ingresso=ano\n",
    "        \n",
    "E1=Estudante(\"Luise\", 18, 2022)\n",
    "print(E1)\n",
    "print(E1.contar)"
   ]
  },
  {
   "cell_type": "markdown",
   "id": "e2f035b0-8282-408a-a71a-04582e636577",
   "metadata": {},
   "source": [
    "## Sobrescrita de Métodos"
   ]
  },
  {
   "cell_type": "code",
   "execution_count": 38,
   "id": "17596feb-b0ce-4376-b740-4a2bd5529997",
   "metadata": {},
   "outputs": [
    {
     "name": "stdout",
     "output_type": "stream",
     "text": [
      "Incrementou!\n",
      "Luise possui 18 anos e ingressou em 2022\n",
      "Chamou este aqui!\n",
      "1\n"
     ]
    }
   ],
   "source": [
    "class Pessoa:\n",
    "    \"\"\"Exemplo de classe que armazena\n",
    "     nome e idade de pessoas.\"\"\"\n",
    "    contar=0\n",
    "    @classmethod\n",
    "    def incre_inst(cls):\n",
    "        print(\"Incrementou!\")\n",
    "        cls.contar+=1\n",
    "    def __init__(self, nome, idade):\n",
    "        Pessoa.incre_inst()\n",
    "        self.nome = nome\n",
    "        self.idade = idade\n",
    "    def __str__(self):\n",
    "        return self.nome + \" possui \" + str(self.idade) + \" anos\"\n",
    "    \n",
    "    def aniversario(self):\n",
    "        self.idade+=1\n",
    "\n",
    "class Estudante(Pessoa):\n",
    "    def __init__(self, nome, idade, ano):\n",
    "        super().__init__(nome, idade)\n",
    "        self.ano_ingresso=ano\n",
    "    \n",
    "    # sobreescrevendo\n",
    "    def aniversario(self):\n",
    "        print(\"Chamou este aqui!\")\n",
    "        self.idade+=1\n",
    "    #sobreescrevendo\n",
    "    def __str__(self):\n",
    "        return self.nome + \" possui \" + str(self.idade) + \" anos e ingressou em \" +\\\n",
    "    str(self.ano_ingresso)\n",
    "        \n",
    "        \n",
    "E1=Estudante(\"Luise\", 18, 2022)\n",
    "print(E1)\n",
    "E1.aniversario()\n",
    "print(E1.contar)"
   ]
  },
  {
   "cell_type": "markdown",
   "id": "36ec9e05-c149-4aa8-8e1b-c802e66c9068",
   "metadata": {},
   "source": [
    "## Extendendo Métodos da Superclasse"
   ]
  },
  {
   "cell_type": "code",
   "execution_count": 40,
   "id": "3416127c-b600-40ab-a7c6-7fbe1cb440d7",
   "metadata": {},
   "outputs": [
    {
     "name": "stdout",
     "output_type": "stream",
     "text": [
      "Incrementou!\n",
      "Luise possui 18 anos e ingressou em 2022\n",
      "1\n"
     ]
    }
   ],
   "source": [
    "class Pessoa:\n",
    "    \"\"\"Exemplo de classe que armazena\n",
    "     nome e idade de pessoas.\"\"\"\n",
    "    contar=0\n",
    "    @classmethod\n",
    "    def incre_inst(cls):\n",
    "        print(\"Incrementou!\")\n",
    "        cls.contar+=1\n",
    "    def __init__(self, nome, idade):\n",
    "        Pessoa.incre_inst()\n",
    "        self.nome = nome\n",
    "        self.idade = idade\n",
    "    def __str__(self):\n",
    "        return self.nome + \" possui \" + str(self.idade) + \" anos\"\n",
    "    \n",
    "    def aniversario(self):\n",
    "        self.idade+=1\n",
    "\n",
    "class Estudante(Pessoa):\n",
    "    def __init__(self, nome, idade, ano):\n",
    "        super().__init__(nome, idade)\n",
    "        self.ano_ingresso=ano\n",
    "    \n",
    "    #Extendendo\n",
    "    def __str__(self):\n",
    "        return super().__str__() + \" e ingressou em \" +\\\n",
    "    str(self.ano_ingresso)\n",
    "        \n",
    "        \n",
    "E1=Estudante(\"Luise\", 18, 2022)\n",
    "print(E1)\n",
    "E1.aniversario()\n",
    "print(E1.contar)"
   ]
  },
  {
   "cell_type": "markdown",
   "id": "b07ed738-47c3-4bd1-838b-d17e4a82e35c",
   "metadata": {},
   "source": [
    "## Herança Múltipla de Classes"
   ]
  },
  {
   "cell_type": "code",
   "execution_count": 59,
   "id": "4afd43f1-a6c1-47c1-980d-24a25f449314",
   "metadata": {},
   "outputs": [
    {
     "name": "stdout",
     "output_type": "stream",
     "text": [
      "C\n",
      "ADados\n",
      "B -> D\n",
      "ADados\n"
     ]
    }
   ],
   "source": [
    "class A:\n",
    "    def __str__(vitor):\n",
    "        return \"A\"\n",
    "    \n",
    "    def dados(self):\n",
    "        return \"ADados\"\n",
    "\n",
    "class B:\n",
    "    def __str__(self):\n",
    "        return \"B\"\n",
    "    \n",
    "    def dados(self):\n",
    "        return \"BDados\"\n",
    "\n",
    "class C(A,B):\n",
    "    def __str__(self):\n",
    "        return \"C\"\n",
    "\n",
    "class D(C):\n",
    "    def __str__(self):\n",
    "        #return super().__str__() + \" -> D\"\n",
    "        return A().__str__() + \" -> D\"\n",
    "    \n",
    "    \n",
    "O1=C()\n",
    "print(O1)\n",
    "print(O1.dados())\n",
    "\n",
    "O2=D()\n",
    "print(O2)\n",
    "print(O2.dados())"
   ]
  },
  {
   "cell_type": "markdown",
   "id": "4b571c57-61a4-471c-ba32-db9c233082e6",
   "metadata": {},
   "source": [
    "## Acessibilidade de Atributos e Membros das Classes"
   ]
  },
  {
   "cell_type": "code",
   "execution_count": 65,
   "id": "d4cb7bb5-2f06-4a2a-bbe4-6c9297d959b9",
   "metadata": {},
   "outputs": [
    {
     "name": "stdout",
     "output_type": "stream",
     "text": [
      "Incrementou!\n",
      "Luise possui 18 anos e ingressou em 2022\n",
      "1\n",
      "100000\n"
     ]
    }
   ],
   "source": [
    "class Pessoa:\n",
    "    \"\"\"Exemplo de classe que armazena\n",
    "     nome e idade de pessoas.\"\"\"\n",
    "    _contar=0 #protegido\n",
    "    @classmethod\n",
    "    def incre_inst(cls):\n",
    "        print(\"Incrementou!\")\n",
    "        cls._contar+=1\n",
    "    def __init__(self, nome, idade):\n",
    "        Pessoa.incre_inst()\n",
    "        self.nome = nome\n",
    "        self.idade = idade\n",
    "    def __str__(self):\n",
    "        return self.nome + \" possui \" + str(self.idade) + \" anos\"\n",
    "    \n",
    "    # metodo protegido\n",
    "    def _aniversario(self):\n",
    "        self.idade+=1\n",
    "\n",
    "class Estudante(Pessoa):\n",
    "    def __init__(self, nome, idade, ano):\n",
    "        super().__init__(nome, idade)\n",
    "        self.ano_ingresso=ano\n",
    "    \n",
    "    #Extendendo\n",
    "    def __str__(self):\n",
    "        return super().__str__() + \" e ingressou em \" +\\\n",
    "    str(self.ano_ingresso)\n",
    "        \n",
    "        \n",
    "E1=Estudante(\"Luise\", 18, 2022)\n",
    "print(E1)\n",
    "E1._aniversario()\n",
    "print(E1._contar)\n",
    "# pode ser um problema ter este tipo de acesso\n",
    "E1._contar=100000\n",
    "print(E1._contar)"
   ]
  },
  {
   "cell_type": "code",
   "execution_count": 70,
   "id": "44dbd2a5",
   "metadata": {},
   "outputs": [
    {
     "name": "stdout",
     "output_type": "stream",
     "text": [
      "Incrementou!\n",
      "Luise possui 18 anos e ingressou em 2022\n",
      "18\n"
     ]
    }
   ],
   "source": [
    "class Pessoa:\n",
    "    \"\"\"Exemplo de classe que armazena\n",
    "     nome e idade de pessoas.\"\"\"\n",
    "    __contar=0 #privado\n",
    "    @classmethod\n",
    "    def incre_inst(cls):\n",
    "        print(\"Incrementou!\")\n",
    "        cls.__contar+=1\n",
    "    def __init__(self, nome, idade):\n",
    "        Pessoa.incre_inst()\n",
    "        self.__nome = nome\n",
    "        self.idade = idade\n",
    "    def __str__(self):\n",
    "        return self.__nome + \" possui \" + str(self.idade) + \" anos\"\n",
    "    \n",
    "    # metodo protegido\n",
    "    def _aniversario(self):\n",
    "        self.idade+=1\n",
    "\n",
    "class Estudante(Pessoa):\n",
    "    def __init__(self, nome, idade, ano):\n",
    "        super().__init__(nome, idade)\n",
    "        self.ano_ingresso=ano\n",
    "    \n",
    "    #Extendendo\n",
    "    def __str__(self):\n",
    "        return super().__str__() + \" e ingressou em \" +\\\n",
    "    str(self.ano_ingresso)\n",
    "        \n",
    "        \n",
    "E1=Estudante(\"Luise\", 18, 2022)\n",
    "print(E1)\n",
    "# print(E1.__nome)\n",
    "print(E1.idade)\n",
    "E1._aniversario()\n",
    "# print(E1.__contar)"
   ]
  },
  {
   "cell_type": "markdown",
   "id": "3d2181a9-e0a1-4a9b-ad8e-7f759aaa4a72",
   "metadata": {},
   "source": [
    "## Exercício Conta Bancária (Continuação 2)"
   ]
  },
  {
   "cell_type": "markdown",
   "id": "f3c5b740-64b1-4847-919c-1f997bf43a6b",
   "metadata": {},
   "source": [
    "O objetivo é estender a classe `ContaBancaria` fornecendo três Subclasses (`ContaDeposito`, `ContaCorrente`, `ContaInvestimento`)\n",
    "1. `ContaCorrente` precisa ter um limite de saque e redefinir o método para sacar do dinheiro. Este método precisa tratar se o saque for maior que o saldo.\n",
    "2. `ContaDeposito` precisa ter uma taxa de juros associado \n",
    "3. `ContaInvestimento` precisa ter um atributo que identifica o tipo de investimento (ex. baixo risco e alto risco)\n",
    "4. Testar o funcionamento"
   ]
  },
  {
   "cell_type": "code",
   "execution_count": null,
   "id": "2886d09b-a00f-4e5b-b750-8a672b20b7f7",
   "metadata": {},
   "outputs": [],
   "source": []
  }
 ],
 "metadata": {
  "kernelspec": {
   "display_name": "Python 3.10.7 64-bit",
   "language": "python",
   "name": "python3"
  },
  "language_info": {
   "codemirror_mode": {
    "name": "ipython",
    "version": 3
   },
   "file_extension": ".py",
   "mimetype": "text/x-python",
   "name": "python",
   "nbconvert_exporter": "python",
   "pygments_lexer": "ipython3",
   "version": "3.10.7"
  },
  "vscode": {
   "interpreter": {
    "hash": "a7dbb88c84ecda04e2dfa8176cb6708abf8c95c32934f510df16d1a1f4945387"
   }
  }
 },
 "nbformat": 4,
 "nbformat_minor": 5
}
