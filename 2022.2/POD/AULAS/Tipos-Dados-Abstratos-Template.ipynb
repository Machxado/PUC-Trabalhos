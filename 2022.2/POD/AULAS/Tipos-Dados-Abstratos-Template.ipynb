{
 "cells": [
  {
   "cell_type": "markdown",
   "id": "cb01325f",
   "metadata": {},
   "source": [
    "# [Prof. Dalvan Griebler](mailto:dalvan.griebler@pucrs.br)\n",
    "\n",
    "## Programação Orientada a Dados (POD) - Turma 10 (POD_98H04-06)\n",
    "\n",
    "**Atualizado**: 25/09/2021\n",
    "\n",
    "**Descrição**: Material de apoio as aulas sobre Python para POD\n",
    "\n",
    "**Copyright &copy;**: Este documento está sob a licensa da Criative Commons [BY-NC-ND 4.0](https://creativecommons.org/licenses/by-nc-nd/4.0/legalcode)"
   ]
  },
  {
   "cell_type": "markdown",
   "id": "e30a64e1",
   "metadata": {},
   "source": [
    "# Tipos Abstratos em Python"
   ]
  },
  {
   "cell_type": "markdown",
   "id": "55226043",
   "metadata": {},
   "source": [
    "## Filas"
   ]
  },
  {
   "cell_type": "code",
   "execution_count": 1,
   "id": "45665f50",
   "metadata": {},
   "outputs": [],
   "source": [
    "from contextlib import nullcontext\n",
    "\n",
    "\n",
    "class Fila():\n",
    "    nElementos = 0\n",
    "    pos=0\n",
    "    def __init__(self,lista = []):\n",
    "        self.lista = lista\n",
    "    def enqueue(self,elemento):\n",
    "        self.lista.append(elemento)\n",
    "    def dequeue(self):\n",
    "        return self.lista.pop(0)\n",
    "    def peek(self):\n",
    "        return self.lista(0)\n",
    "    def __len__(self):\n",
    "        return len(self.lista)\n",
    "    def isEmpty(self):\n",
    "        return self.__len__ == 0\n",
    "    def __str__(self):\n",
    "        return str(self.lista)\n",
    "\n"
   ]
  },
  {
   "cell_type": "markdown",
   "id": "81499cc8",
   "metadata": {},
   "source": [
    "### Classe que implementa uma fila"
   ]
  },
  {
   "cell_type": "code",
   "execution_count": null,
   "id": "1eb50123",
   "metadata": {},
   "outputs": [],
   "source": []
  },
  {
   "cell_type": "markdown",
   "id": "cfda5c09",
   "metadata": {},
   "source": [
    "## Pilhas"
   ]
  },
  {
   "cell_type": "code",
   "execution_count": null,
   "id": "0207fef9",
   "metadata": {},
   "outputs": [],
   "source": [
    "class pilha():\n",
    "    def __init__(self, lista = []):\n",
    "        self.lista=lista\n",
    "    def push(self,elemento):\n",
    "        self.lista.insert(len(self.lista),elemento)\n",
    "    def pop(self):\n",
    "        return self.lista.pop(len(self.lista)-1)\n",
    "    def top(self):\n",
    "        return self.lista(len(self.lista)-1)\n",
    "    def __len__(self):\n",
    "        return len(self.lista)\n",
    "    def isEmpty(self):\n",
    "        return self.__len__ == 0\n",
    "    def __str__ (self):\n",
    "        return str(self.lista)"
   ]
  },
  {
   "cell_type": "markdown",
   "id": "f46e4d7d",
   "metadata": {},
   "source": [
    "### Classe que implementa uma pilha"
   ]
  },
  {
   "cell_type": "code",
   "execution_count": null,
   "id": "df8ad0b4",
   "metadata": {},
   "outputs": [],
   "source": []
  }
 ],
 "metadata": {
  "kernelspec": {
   "display_name": "Python 3.10.7 64-bit (microsoft store)",
   "language": "python",
   "name": "python3"
  },
  "language_info": {
   "codemirror_mode": {
    "name": "ipython",
    "version": 3
   },
   "file_extension": ".py",
   "mimetype": "text/x-python",
   "name": "python",
   "nbconvert_exporter": "python",
   "pygments_lexer": "ipython3",
   "version": "3.10.7"
  },
  "vscode": {
   "interpreter": {
    "hash": "2ec1ab3a7492c682861eb248a34c624e35e5f607dace7fc7e85d983a5f829e20"
   }
  }
 },
 "nbformat": 4,
 "nbformat_minor": 5
}
