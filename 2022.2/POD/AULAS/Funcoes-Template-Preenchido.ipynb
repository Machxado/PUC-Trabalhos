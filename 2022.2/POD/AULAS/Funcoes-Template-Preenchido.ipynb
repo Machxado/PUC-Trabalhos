{
 "cells": [
  {
   "cell_type": "markdown",
   "id": "217af2ca-6a17-4b6b-8085-4df7ca86c35d",
   "metadata": {
    "deletable": false,
    "editable": false,
    "tags": []
   },
   "source": [
    "# [Prof. Dalvan Griebler](mailto:dalvan.griebler@pucrs.br)\n",
    "\n",
    "## Programação Orientada a Dados (POD) - Turma 10 (POD_98H04-06)\n",
    "\n",
    "**Atualizado**: 22/08/2021\n",
    "\n",
    "**Descrição**: Material de apoio as aulas sobre Python para POD\n",
    "\n",
    "**Copyright &copy;**: Este documento está sob a licensa da Criative Commons [BY-NC-ND 4.0](https://creativecommons.org/licenses/by-nc-nd/4.0/legalcode)"
   ]
  },
  {
   "cell_type": "markdown",
   "id": "6a03ff92-2d39-4f06-9b30-94debc55cc17",
   "metadata": {
    "deletable": false,
    "editable": false,
    "tags": []
   },
   "source": [
    "# Funções em Python"
   ]
  },
  {
   "cell_type": "markdown",
   "id": "16cd8a5b-8851-4d8d-8cfc-bb9d5587e1f6",
   "metadata": {},
   "source": [
    "## Definição e Documentação de Funções"
   ]
  },
  {
   "cell_type": "code",
   "execution_count": 3,
   "id": "efdcd266-4531-4335-9098-7030739a2703",
   "metadata": {},
   "outputs": [
    {
     "name": "stdout",
     "output_type": "stream",
     "text": [
      "Mensagem de Teste!\n",
      "Esta função vai mostrar uma mensagem na Tela!\n"
     ]
    }
   ],
   "source": [
    "def print_msg():\n",
    "    \"\"\"Esta função vai mostrar uma mensagem na Tela!\"\"\"\n",
    "    print(\"Mensagem de Teste!\")\n",
    "    \n",
    "print_msg()\n",
    "print(print_msg.__doc__)"
   ]
  },
  {
   "cell_type": "code",
   "execution_count": 4,
   "id": "225cd4ef",
   "metadata": {},
   "outputs": [],
   "source": [
    "def print_msg():\n",
    "    pass\n",
    "print_msg()"
   ]
  },
  {
   "cell_type": "markdown",
   "id": "db96e76d-2489-4e0d-b02c-51f64ca51e66",
   "metadata": {},
   "source": [
    "## Parâmetros vs Argumentos"
   ]
  },
  {
   "cell_type": "code",
   "execution_count": 16,
   "id": "db49d368-f5ef-4e42-94a3-c9e83cfd25ec",
   "metadata": {},
   "outputs": [
    {
     "name": "stdout",
     "output_type": "stream",
     "text": [
      "x= 20 y= 30 aula= POD\n",
      "<class 'str'>\n",
      "x= 10 y= 30 aula= POD\n",
      "<class 'str'>\n",
      "x= 10 y= 20 aula= POD\n",
      "<class 'str'>\n",
      "x= 10 y= 20 aula= POD-10\n",
      "<class 'str'>\n",
      "x= 10 y= 20 aula= 10\n",
      "<class 'int'>\n"
     ]
    }
   ],
   "source": [
    "def minha_func(x=20, y=30, aula=\"POD\"):\n",
    "    print(\"x=\", x, \"y=\", y, \"aula=\", aula)\n",
    "    print(type(aula))\n",
    "    \n",
    "minha_func()\n",
    "minha_func(10)\n",
    "minha_func(10,20)\n",
    "minha_func(10,20,\"POD-10\")\n",
    "minha_func(10,20,10)"
   ]
  },
  {
   "cell_type": "code",
   "execution_count": 17,
   "id": "acab3560",
   "metadata": {},
   "outputs": [
    {
     "name": "stdout",
     "output_type": "stream",
     "text": [
      "x= 20 y= 10 aula= POD\n",
      "<class 'str'>\n"
     ]
    }
   ],
   "source": [
    "minha_func(aula=\"POD\", y=10)"
   ]
  },
  {
   "cell_type": "code",
   "execution_count": 19,
   "id": "82c4e267",
   "metadata": {},
   "outputs": [
    {
     "name": "stdout",
     "output_type": "stream",
     "text": [
      "5\n",
      "5\n"
     ]
    }
   ],
   "source": [
    "def altera_valor(var):\n",
    "    var+=10\n",
    "\n",
    "x=5\n",
    "print(x)\n",
    "altera_valor(x)\n",
    "print(x)"
   ]
  },
  {
   "cell_type": "code",
   "execution_count": 21,
   "id": "4606b35c",
   "metadata": {},
   "outputs": [
    {
     "name": "stdout",
     "output_type": "stream",
     "text": [
      "[5]\n",
      "[5, 10]\n"
     ]
    }
   ],
   "source": [
    "def altera_lista(var):\n",
    "    var.append(10)\n",
    "\n",
    "x=[5]\n",
    "print(x)\n",
    "altera_lista(x)\n",
    "print(x)"
   ]
  },
  {
   "cell_type": "markdown",
   "id": "f46cdf64-2170-4503-be20-6a8461c4f4d7",
   "metadata": {},
   "source": [
    "## Retorno de Valores"
   ]
  },
  {
   "cell_type": "code",
   "execution_count": 24,
   "id": "c2435d43-3854-4a30-aad7-7f20b8fc731b",
   "metadata": {},
   "outputs": [
    {
     "name": "stdout",
     "output_type": "stream",
     "text": [
      "5\n",
      "15\n"
     ]
    }
   ],
   "source": [
    "def altera_valor(var):\n",
    "    return var+10\n",
    "\n",
    "x=5\n",
    "print(x)\n",
    "x=altera_valor(x)\n",
    "print(x)"
   ]
  },
  {
   "cell_type": "code",
   "execution_count": 26,
   "id": "0c0cfd10",
   "metadata": {},
   "outputs": [
    {
     "name": "stdout",
     "output_type": "stream",
     "text": [
      "1 , 2\n",
      "2 , 1\n"
     ]
    }
   ],
   "source": [
    "def troca(a, b):\n",
    "    return b, a\n",
    "\n",
    "A=1\n",
    "B=2\n",
    "print(A, \",\", B)\n",
    "A, B = troca(A,B)\n",
    "print(A, \",\", B)"
   ]
  },
  {
   "cell_type": "code",
   "execution_count": 29,
   "id": "e1f2e9c1",
   "metadata": {},
   "outputs": [
    {
     "name": "stdout",
     "output_type": "stream",
     "text": [
      "(1, 2)\n",
      "<class 'tuple'>\n"
     ]
    }
   ],
   "source": [
    "Z=troca(A,B)\n",
    "print(Z)\n",
    "print(type(Z))"
   ]
  },
  {
   "cell_type": "code",
   "execution_count": 30,
   "id": "ff8ef0fd",
   "metadata": {},
   "outputs": [
    {
     "name": "stdout",
     "output_type": "stream",
     "text": [
      "(10, 'POD')\n"
     ]
    }
   ],
   "source": [
    "def tipo_dif():\n",
    "    return 10, \"POD\"\n",
    "\n",
    "print(tipo_dif())"
   ]
  },
  {
   "cell_type": "markdown",
   "id": "b2b40a6b-6bb5-4605-82f6-0d4bb6c87ebd",
   "metadata": {},
   "source": [
    "## Número Arbitrários de Argumentos"
   ]
  },
  {
   "cell_type": "code",
   "execution_count": 37,
   "id": "d5c56920-1be4-4ed5-99bc-a3ee3afd9d1f",
   "metadata": {},
   "outputs": [],
   "source": [
    "def func_args(*args):\n",
    "    \"\"\"Função exemplo de argumentos posicionais arbitrários!\"\"\"\n",
    "    for valor in args:\n",
    "        print(\"Valor:\", valor)\n",
    "    if len(args) > 0:\n",
    "        print(args[0])\n",
    "func_args()\n",
    "# não funciona\n",
    "#func_args(y=10)"
   ]
  },
  {
   "cell_type": "markdown",
   "id": "a4fce4c1-e0fc-4641-bc99-97b91163237b",
   "metadata": {},
   "source": [
    "### Argumentos com Nomes (chave-valor)"
   ]
  },
  {
   "cell_type": "code",
   "execution_count": 45,
   "id": "7fadb152-4ce2-4624-9f6c-968f295ebab7",
   "metadata": {},
   "outputs": [
    {
     "name": "stdout",
     "output_type": "stream",
     "text": [
      "chave:  y , Valor: 10\n"
     ]
    }
   ],
   "source": [
    "def func_args_nomeados(**cvargs):\n",
    "    \"\"\"Função exemplo de argumentos chave-valor arbitrários!\"\"\"\n",
    "    for chave in cvargs.keys():\n",
    "        print(\"chave: \", chave, \", Valor:\", cvargs[chave])\n",
    "func_args_nomeados()\n",
    "func_args_nomeados(y=10)"
   ]
  },
  {
   "cell_type": "markdown",
   "id": "18556e32-7437-49cc-90c2-75c417df1d4b",
   "metadata": {},
   "source": [
    "### Argumentos Posicionais e Chave-valor Combinados"
   ]
  },
  {
   "cell_type": "code",
   "execution_count": 50,
   "id": "d294b08f-0c31-4168-92ac-10ad26374159",
   "metadata": {},
   "outputs": [
    {
     "ename": "SyntaxError",
     "evalue": "positional argument follows keyword argument (1753804704.py, line 11)",
     "output_type": "error",
     "traceback": [
      "\u001b[0;36m  File \u001b[0;32m\"/tmp/ipykernel_22150/1753804704.py\"\u001b[0;36m, line \u001b[0;32m11\u001b[0m\n\u001b[0;31m    func_args_ambos(y=20, 20)\u001b[0m\n\u001b[0m                          ^\u001b[0m\n\u001b[0;31mSyntaxError\u001b[0m\u001b[0;31m:\u001b[0m positional argument follows keyword argument\n"
     ]
    }
   ],
   "source": [
    "def func_args_ambos(*args, **cvargs):\n",
    "    \"\"\"Função exemplo de argumentos posicionais e chave-valor arbitrários!\"\"\"\n",
    "    for valor in args:\n",
    "        print(\"Valor:\", valor)\n",
    "    for chave in cvargs.keys():\n",
    "        print(\"chave: \", chave, \", Valor:\", cvargs[chave])\n",
    "func_args_ambos()\n",
    "func_args_ambos(y=10)\n",
    "func_args_ambos(10)\n",
    "func_args_ambos(20, y=20)\n",
    "#func_args_ambos(y=20, 20)"
   ]
  },
  {
   "cell_type": "markdown",
   "id": "15519855-7559-4ded-8f1e-d0c516547645",
   "metadata": {},
   "source": [
    "## Ciclo de Vida e Escopo das Variáveis"
   ]
  },
  {
   "cell_type": "code",
   "execution_count": 54,
   "id": "67f5fa90-b9bd-48a6-882a-47e1ed095e23",
   "metadata": {},
   "outputs": [
    {
     "name": "stdout",
     "output_type": "stream",
     "text": [
      "12\n",
      "10\n"
     ]
    }
   ],
   "source": [
    "var=10\n",
    "def main():\n",
    "    if(var==10):\n",
    "        y=12\n",
    "    print(y)\n",
    "# print(y)\n",
    "main()\n",
    "print(var)"
   ]
  },
  {
   "cell_type": "code",
   "execution_count": 58,
   "id": "7d0641b7",
   "metadata": {},
   "outputs": [
    {
     "name": "stdout",
     "output_type": "stream",
     "text": [
      "12\n",
      "12\n",
      "10\n"
     ]
    }
   ],
   "source": [
    "var=10\n",
    "def main():\n",
    "    if(var==10):\n",
    "        global y\n",
    "        y=12\n",
    "    print(y)\n",
    "print(y)\n",
    "main()\n",
    "print(var)"
   ]
  },
  {
   "cell_type": "code",
   "execution_count": 60,
   "id": "cff61f05",
   "metadata": {},
   "outputs": [
    {
     "name": "stdout",
     "output_type": "stream",
     "text": [
      "12\n",
      "10\n"
     ]
    }
   ],
   "source": [
    "def func_ex():\n",
    "    y = 10\n",
    "    def func_in():\n",
    "        y = 12\n",
    "        print(y)\n",
    "    func_in()\n",
    "    print(y)\n",
    "func_ex()"
   ]
  },
  {
   "cell_type": "code",
   "execution_count": 61,
   "id": "8b44d421",
   "metadata": {},
   "outputs": [
    {
     "name": "stdout",
     "output_type": "stream",
     "text": [
      "12\n",
      "12\n"
     ]
    }
   ],
   "source": [
    "def func_ex():\n",
    "    y = 10\n",
    "    def func_in():\n",
    "        nonlocal y \n",
    "        y = 12\n",
    "        print(y)\n",
    "    func_in()\n",
    "    print(y)\n",
    "func_ex()"
   ]
  },
  {
   "cell_type": "markdown",
   "id": "5cfe4ee2-5971-4469-b6ab-e432c62a6238",
   "metadata": {},
   "source": [
    "## Funções Anônimas"
   ]
  },
  {
   "cell_type": "code",
   "execution_count": 64,
   "id": "27aca0a8-3961-4758-ac21-0ab0d09ef4e5",
   "metadata": {},
   "outputs": [
    {
     "name": "stdout",
     "output_type": "stream",
     "text": [
      "<function <lambda> at 0x7faad43714c0>\n",
      "sem argumentos\n",
      "50\n",
      "25\n"
     ]
    }
   ],
   "source": [
    "func1 = lambda: print('sem argumentos')\n",
    "func2 = lambda x: x * 10\n",
    "func3 = lambda x,y: x * y\n",
    "print(func1)\n",
    "func1()\n",
    "print(func2(5))\n",
    "print(func3(5,5))"
   ]
  },
  {
   "cell_type": "markdown",
   "id": "453552cb-3827-46cf-9710-30d68828c3b4",
   "metadata": {},
   "source": [
    "## Funções Recursivas"
   ]
  },
  {
   "cell_type": "code",
   "execution_count": 66,
   "id": "e5a583b8-1514-42e0-9f2a-478a16cba601",
   "metadata": {},
   "outputs": [
    {
     "name": "stdout",
     "output_type": "stream",
     "text": [
      "5 4 3 2 1 0 "
     ]
    }
   ],
   "source": [
    "# imperativo\n",
    "def func_decre_imp(N):\n",
    "    for i in range(N,-1,-1):\n",
    "        print(i, end=\" \")\n",
    "func_decre_imp(5)"
   ]
  },
  {
   "cell_type": "code",
   "execution_count": 70,
   "id": "17036053",
   "metadata": {},
   "outputs": [
    {
     "name": "stdout",
     "output_type": "stream",
     "text": [
      "5 4 3 2 1 0 "
     ]
    }
   ],
   "source": [
    "def func_decre(N):\n",
    "    print(N, end=\" \")\n",
    "    if N==1: return 0\n",
    "    else: return func_decre(N-1)\n",
    "print(func_decre(5), end=\" \")"
   ]
  },
  {
   "cell_type": "markdown",
   "id": "a975cfa0-da88-42fe-9e22-5138d3abc585",
   "metadata": {},
   "source": [
    "## Exercícios de Fixação sobre Funções"
   ]
  },
  {
   "cell_type": "markdown",
   "id": "890166ae-3dec-43fd-b320-1c5f4c1aee1e",
   "metadata": {},
   "source": [
    "1. Crie uma pequena calculadora com operações de soma, subtração, multiplicação e divisão (explore ao máximo o uso de funções)\n",
    "    - Use uma função para oferecer um menu de operações \n",
    "    - Cada operação matemática é uma função\n",
    "    - Faça uma função para testar a saída do programa\n",
    "    - Criei uma função que leia os números digitados\n",
    "    - Documente todas as funções criadas\n",
    "\n",
    "_Obs: neste exercício você pode usar o método `isnumeric()` para testar se o que usuário digitou é um número pra garantir que a operação funcione._"
   ]
  },
  {
   "cell_type": "code",
   "execution_count": null,
   "id": "f4838647-6c28-4ad3-8579-ec12b6bbf0c9",
   "metadata": {},
   "outputs": [],
   "source": [
    "#declarar aqui uma função para cada operação, por exemplo.\n",
    "def adicao(x,y):\n",
    "    pass\n",
    "\n",
    "def testa_fim():\n",
    "    # implementar aqui\n",
    "    return True\n",
    "\n",
    "def obter_op_escolhida():\n",
    "    # Implementar aqui\n",
    "    pass\n",
    "\n",
    "def obter_dois_numeros():\n",
    "    # Implementar aqui\n",
    "    return None, None\n",
    "\n",
    "def computar(*cvargs):\n",
    "    # Implementar aqui, note que podemos exercitar o uso de vários argumentos\n",
    "    return None\n",
    "\n",
    "fim = False\n",
    "while not fim:\n",
    "    res = 0\n",
    "    # obter a escolha da operação planejada\n",
    "    opcao=obter_op_escolhida()\n",
    "    # obter os número digitados pelo usuário\n",
    "    num1, num2 = obter_dois_numeros()\n",
    "    # computar a operação escolhida\n",
    "    res=computar(num1, num2, opcao)\n",
    "    print('Resultado:', res)\n",
    "    print(('-'*20))\n",
    "    # determinar/testar se usuário terminou\n",
    "    fim=testa_fim()\n",
    "print('Fim')"
   ]
  },
  {
   "cell_type": "markdown",
   "id": "76ddf724-d5af-4906-acf4-363b21e23316",
   "metadata": {},
   "source": [
    "2. Diga se um número é primo com uma função recursiva\n",
    "    - A função deve retornar **True** (é primo) ou **False** (não é primo)"
   ]
  },
  {
   "cell_type": "code",
   "execution_count": null,
   "id": "c77f3a76-697a-4c5c-b25d-d4eaa342ad35",
   "metadata": {},
   "outputs": [],
   "source": []
  }
 ],
 "metadata": {
  "kernelspec": {
   "display_name": "Python 3 (ipykernel)",
   "language": "python",
   "name": "python3"
  },
  "language_info": {
   "codemirror_mode": {
    "name": "ipython",
    "version": 3
   },
   "file_extension": ".py",
   "mimetype": "text/x-python",
   "name": "python",
   "nbconvert_exporter": "python",
   "pygments_lexer": "ipython3",
   "version": "3.8.8"
  }
 },
 "nbformat": 4,
 "nbformat_minor": 5
}
