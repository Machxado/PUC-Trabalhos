{
 "cells": [
  {
   "cell_type": "markdown",
   "id": "b204828f-8e97-4214-8cc0-3276e7a6360f",
   "metadata": {
    "deletable": false,
    "editable": false,
    "tags": []
   },
   "source": [
    "# [Prof. Dalvan Griebler](mailto:dalvan.griebler@pucrs.br)\n",
    "\n",
    "## Programação Orientada a Dados (POD) - Turma 10 (POD_98H04-06)\n",
    "\n",
    "**Atualizado**: 22/08/2021\n",
    "\n",
    "**Descrição**: Material de apoio as aulas sobre Python para POD\n",
    "\n",
    "**Copyright &copy;**: Este documento está sob a licensa da Criative Commons [BY-NC-ND 4.0](https://creativecommons.org/licenses/by-nc-nd/4.0/legalcode)"
   ]
  },
  {
   "cell_type": "markdown",
   "id": "902d0536-4ef8-451e-bb4e-a08412aee8f9",
   "metadata": {
    "deletable": false,
    "editable": false,
    "tags": []
   },
   "source": [
    "# Strings em Python"
   ]
  },
  {
   "cell_type": "markdown",
   "id": "f0b1fbfd-3016-4d57-b3fe-bdec47691ee8",
   "metadata": {
    "deletable": false,
    "editable": false,
    "tags": []
   },
   "source": [
    "## Representação de Strings\n",
    "\n",
    "Podemos usar aspas simples ou duplas"
   ]
  },
  {
   "cell_type": "code",
   "execution_count": 1,
   "id": "c1013d5c-196a-4eec-95b5-f2737e7625d8",
   "metadata": {
    "deletable": false,
    "editable": false,
    "tags": []
   },
   "outputs": [
    {
     "name": "stdout",
     "output_type": "stream",
     "text": [
      "Aula de POD!\n",
      "Aula de POD!\n"
     ]
    }
   ],
   "source": [
    "print('Aula de POD!')\n",
    "print(\"Aula de POD!\")"
   ]
  },
  {
   "cell_type": "markdown",
   "id": "44454474-599a-4b4f-8f8a-3f948008902c",
   "metadata": {
    "deletable": false,
    "editable": false,
    "tags": []
   },
   "source": [
    "Podemos também ter mais de uma linha"
   ]
  },
  {
   "cell_type": "code",
   "execution_count": 2,
   "id": "8b9dff86-8178-49da-b4c8-8b4cfed4a604",
   "metadata": {
    "deletable": false,
    "editable": false,
    "tags": []
   },
   "outputs": [
    {
     "name": "stdout",
     "output_type": "stream",
     "text": [
      " Aula\n",
      "de\n",
      "POD!\n",
      "\n"
     ]
    }
   ],
   "source": [
    "POD = \"\"\" Aula\n",
    "de\n",
    "POD!\n",
    "\"\"\"\n",
    "print(POD)"
   ]
  },
  {
   "cell_type": "markdown",
   "id": "c3285d7c-2db9-4960-9135-9adbbec6094a",
   "metadata": {
    "deletable": false,
    "editable": false,
    "tags": []
   },
   "source": [
    "Decobrindo qual é o tipo da variável `POD`"
   ]
  },
  {
   "cell_type": "code",
   "execution_count": 3,
   "id": "2b7a09a3-5a36-4ea9-83e9-2fc7cd8b5062",
   "metadata": {
    "deletable": false,
    "editable": false,
    "tags": []
   },
   "outputs": [
    {
     "name": "stdout",
     "output_type": "stream",
     "text": [
      "<class 'str'>\n"
     ]
    }
   ],
   "source": [
    "print(type(POD))"
   ]
  },
  {
   "cell_type": "markdown",
   "id": "d55701a5-ce74-43ac-ab0d-0500b1b48d95",
   "metadata": {
    "deletable": false,
    "editable": false,
    "tags": []
   },
   "source": [
    "Podemos também deletar o objeto se quisermos."
   ]
  },
  {
   "cell_type": "code",
   "execution_count": 4,
   "id": "ccc355e5-38fa-4854-b561-9e134cfbde14",
   "metadata": {
    "deletable": false,
    "editable": false,
    "tags": []
   },
   "outputs": [
    {
     "ename": "NameError",
     "evalue": "name 'POD' is not defined",
     "output_type": "error",
     "traceback": [
      "\u001b[0;31m---------------------------------------------------------------------------\u001b[0m",
      "\u001b[0;31mNameError\u001b[0m                                 Traceback (most recent call last)",
      "\u001b[0;32m/tmp/ipykernel_3915/2339768448.py\u001b[0m in \u001b[0;36m<module>\u001b[0;34m\u001b[0m\n\u001b[1;32m      1\u001b[0m \u001b[0;32mdel\u001b[0m \u001b[0mPOD\u001b[0m\u001b[0;34m\u001b[0m\u001b[0;34m\u001b[0m\u001b[0m\n\u001b[0;32m----> 2\u001b[0;31m \u001b[0mprint\u001b[0m\u001b[0;34m(\u001b[0m\u001b[0mPOD\u001b[0m\u001b[0;34m)\u001b[0m\u001b[0;34m\u001b[0m\u001b[0;34m\u001b[0m\u001b[0m\n\u001b[0m",
      "\u001b[0;31mNameError\u001b[0m: name 'POD' is not defined"
     ]
    }
   ],
   "source": [
    "del POD\n",
    "print(POD)"
   ]
  },
  {
   "cell_type": "markdown",
   "id": "a9f55dd6-9c23-44b5-a390-d4db98d1eaf3",
   "metadata": {
    "deletable": false,
    "editable": false,
    "tags": []
   },
   "source": [
    "## Operações com Strings"
   ]
  },
  {
   "cell_type": "markdown",
   "id": "fa6d92cc-2a3c-4c41-9e83-ba1aea3a4cd1",
   "metadata": {
    "deletable": false,
    "editable": false,
    "tags": []
   },
   "source": [
    "### Concatenação"
   ]
  },
  {
   "cell_type": "code",
   "execution_count": 8,
   "id": "dc89d12a-3409-44de-9a08-1cd932927a1f",
   "metadata": {},
   "outputs": [
    {
     "name": "stdout",
     "output_type": "stream",
     "text": [
      "Aula de POD!\n"
     ]
    }
   ],
   "source": [
    "POD1=\"Aula \"\n",
    "POD2=\"de \"\n",
    "POD3=\"POD!\"\n",
    "POD = POD1+POD2+POD3\n",
    "print(POD)"
   ]
  },
  {
   "cell_type": "markdown",
   "id": "4e4ceb4a-4b78-42f7-b067-f3d409bd7dc6",
   "metadata": {
    "deletable": false,
    "editable": false,
    "tags": []
   },
   "source": [
    "### Obter o comprimeito de String"
   ]
  },
  {
   "cell_type": "code",
   "execution_count": 9,
   "id": "5b1f555b-46a5-415f-bb3c-783babc4a1c5",
   "metadata": {},
   "outputs": [
    {
     "name": "stdout",
     "output_type": "stream",
     "text": [
      "12\n"
     ]
    }
   ],
   "source": [
    "print(len(POD))"
   ]
  },
  {
   "cell_type": "markdown",
   "id": "1641849a-bd0d-40c1-8c34-a98234b9a3fe",
   "metadata": {
    "deletable": false,
    "editable": false,
    "tags": []
   },
   "source": [
    "### Acessar caracter specífico"
   ]
  },
  {
   "cell_type": "code",
   "execution_count": 26,
   "id": "5412ac79-19db-4fd5-b458-13e1dd47228e",
   "metadata": {},
   "outputs": [
    {
     "name": "stdout",
     "output_type": "stream",
     "text": [
      "A\n",
      "u\n",
      "l\n",
      "a\n"
     ]
    }
   ],
   "source": [
    "print(POD[0])\n",
    "print(POD[1])\n",
    "print(POD[2])\n",
    "print(POD[3])"
   ]
  },
  {
   "cell_type": "code",
   "execution_count": 27,
   "id": "28505bf8",
   "metadata": {},
   "outputs": [
    {
     "name": "stdout",
     "output_type": "stream",
     "text": [
      "!\n",
      "D\n",
      "O\n"
     ]
    }
   ],
   "source": [
    "print(POD[-1])\n",
    "print(POD[-2])\n",
    "print(POD[-3])"
   ]
  },
  {
   "cell_type": "code",
   "execution_count": 13,
   "id": "e6fdc669",
   "metadata": {},
   "outputs": [
    {
     "ename": "TypeError",
     "evalue": "'str' object does not support item assignment",
     "output_type": "error",
     "traceback": [
      "\u001b[0;31m---------------------------------------------------------------------------\u001b[0m",
      "\u001b[0;31mTypeError\u001b[0m                                 Traceback (most recent call last)",
      "\u001b[0;32m/tmp/ipykernel_3915/743726511.py\u001b[0m in \u001b[0;36m<module>\u001b[0;34m\u001b[0m\n\u001b[0;32m----> 1\u001b[0;31m \u001b[0mPOD\u001b[0m\u001b[0;34m[\u001b[0m\u001b[0;36m0\u001b[0m\u001b[0;34m]\u001b[0m\u001b[0;34m=\u001b[0m\u001b[0;34m'a'\u001b[0m\u001b[0;34m\u001b[0m\u001b[0;34m\u001b[0m\u001b[0m\n\u001b[0m",
      "\u001b[0;31mTypeError\u001b[0m: 'str' object does not support item assignment"
     ]
    }
   ],
   "source": [
    "# comentario\n",
    "POD[0]='a'"
   ]
  },
  {
   "cell_type": "markdown",
   "id": "3d303612-30c4-42c5-a3f0-886c4a3066c9",
   "metadata": {
    "deletable": false,
    "editable": false,
    "tags": []
   },
   "source": [
    "### Acessar um subconjunto de caracteres"
   ]
  },
  {
   "cell_type": "code",
   "execution_count": 22,
   "id": "c4dec408-0988-4140-a18d-d74a26d69ad9",
   "metadata": {},
   "outputs": [
    {
     "name": "stdout",
     "output_type": "stream",
     "text": [
      "Aula\n",
      "Aula\n"
     ]
    }
   ],
   "source": [
    "print(POD[0:4])\n",
    "print(POD[:4])\n"
   ]
  },
  {
   "cell_type": "code",
   "execution_count": 24,
   "id": "695f9510",
   "metadata": {},
   "outputs": [
    {
     "name": "stdout",
     "output_type": "stream",
     "text": [
      "POD!\n",
      "POD!\n"
     ]
    }
   ],
   "source": [
    "print(POD[8:12])\n",
    "print(POD[8:12])"
   ]
  },
  {
   "cell_type": "code",
   "execution_count": 29,
   "id": "a58709e8",
   "metadata": {},
   "outputs": [
    {
     "name": "stdout",
     "output_type": "stream",
     "text": [
      "!DOP ed aluA\n",
      "Al ePD\n"
     ]
    }
   ],
   "source": [
    "print(POD[::-1])\n",
    "print(POD[::2])"
   ]
  },
  {
   "cell_type": "markdown",
   "id": "45a1900a-85c8-474b-b4d3-c3bdb8f717b2",
   "metadata": {
    "deletable": false,
    "editable": false,
    "tags": []
   },
   "source": [
    "### Replicação/Repetição"
   ]
  },
  {
   "cell_type": "code",
   "execution_count": 32,
   "id": "c95f6a67-87c6-4b25-a2f4-7a3aba73bbf0",
   "metadata": {},
   "outputs": [
    {
     "name": "stdout",
     "output_type": "stream",
     "text": [
      "++++++++++++++++++++\n",
      "stringstringstringstringstringstringstringstringstringstringstringstringstringstringstringstringstringstringstringstring\n"
     ]
    }
   ],
   "source": [
    "print('+'*20)\n",
    "print('string'*20)"
   ]
  },
  {
   "cell_type": "code",
   "execution_count": 35,
   "id": "4ae6bf88",
   "metadata": {},
   "outputs": [
    {
     "name": "stdout",
     "output_type": "stream",
     "text": [
      "Aula Aula Aula Aula Aula Aula Aula Aula Aula Aula Aula Aula Aula Aula Aula Aula Aula Aula Aula Aula \n"
     ]
    }
   ],
   "source": [
    "print((POD[:4]+\" \")*20)"
   ]
  },
  {
   "cell_type": "markdown",
   "id": "e6e2bf25-a501-4cd7-aff9-6abc0ad86fa8",
   "metadata": {
    "deletable": false,
    "editable": false,
    "tags": []
   },
   "source": [
    "### Particionar"
   ]
  },
  {
   "cell_type": "code",
   "execution_count": 38,
   "id": "710a80f1-44c2-4e17-aa2b-c368af704ab9",
   "metadata": {},
   "outputs": [
    {
     "name": "stdout",
     "output_type": "stream",
     "text": [
      "['Aula', 'de', 'POD!']\n"
     ]
    }
   ],
   "source": [
    "lista=POD.split(\" \")\n",
    "print(lista)"
   ]
  },
  {
   "cell_type": "markdown",
   "id": "09e7c3c5-531a-4f51-a5ea-b87c15691f47",
   "metadata": {
    "deletable": false,
    "editable": false,
    "tags": []
   },
   "source": [
    "### Contar Ocorrências"
   ]
  },
  {
   "cell_type": "code",
   "execution_count": 42,
   "id": "92c6f3a0-84a0-4d3d-a762-cd73409ff5ab",
   "metadata": {},
   "outputs": [
    {
     "name": "stdout",
     "output_type": "stream",
     "text": [
      "2\n",
      "1\n"
     ]
    }
   ],
   "source": [
    "print(POD.count(\" \"))\n",
    "print(POD.count(\"a\"))"
   ]
  },
  {
   "cell_type": "markdown",
   "id": "d9493c85-8d56-4151-8405-db4f3abe62cc",
   "metadata": {
    "deletable": false,
    "editable": false,
    "tags": []
   },
   "source": [
    "### Substituição"
   ]
  },
  {
   "cell_type": "code",
   "execution_count": 44,
   "id": "6a90ae96-79c1-47e6-90a4-964fab189df6",
   "metadata": {},
   "outputs": [
    {
     "name": "stdout",
     "output_type": "stream",
     "text": [
      "Aula de Programação Orientada a Dados!\n"
     ]
    }
   ],
   "source": [
    "POD0= POD.replace(\"POD\", \"Programação Orientada a Dados\")\n",
    "print(POD0)"
   ]
  },
  {
   "cell_type": "markdown",
   "id": "abdeff3c-a51f-4bc1-a280-43f9796eaf84",
   "metadata": {
    "deletable": false,
    "editable": false,
    "tags": []
   },
   "source": [
    "### Encontrar uma Substring"
   ]
  },
  {
   "cell_type": "code",
   "execution_count": 48,
   "id": "f3034819-27b8-43a4-8ed4-ec97fca89435",
   "metadata": {},
   "outputs": [
    {
     "name": "stdout",
     "output_type": "stream",
     "text": [
      "Aula de POD!\n",
      "8\n",
      "-1\n",
      "-1\n"
     ]
    }
   ],
   "source": [
    "print(POD)\n",
    "print(POD.find(\"POD\"))\n",
    "\n",
    "print(POD.find(\"XXX\"))\n",
    "\n",
    "print(POD.find(\"ad\"))"
   ]
  },
  {
   "cell_type": "markdown",
   "id": "3002a866-b5e5-4846-832f-aa4d54301785",
   "metadata": {
    "deletable": false,
    "editable": false,
    "tags": []
   },
   "source": [
    "### Conversão de outros tipos para String"
   ]
  },
  {
   "cell_type": "code",
   "execution_count": 52,
   "id": "7aa36b87-a8a2-4d24-a0c7-0927e43b0445",
   "metadata": {},
   "outputs": [
    {
     "name": "stdout",
     "output_type": "stream",
     "text": [
      "Aula de POD!10\n"
     ]
    }
   ],
   "source": [
    "var=10\n",
    "# print(POD + var)\n",
    "print(POD + str(var))"
   ]
  },
  {
   "cell_type": "markdown",
   "id": "9ba77159-4b26-4118-9464-15e3eb79a950",
   "metadata": {
    "deletable": false,
    "editable": false,
    "tags": []
   },
   "source": [
    "### Comparação de strings"
   ]
  },
  {
   "cell_type": "code",
   "execution_count": 53,
   "id": "eead3e9c-9b57-4a72-b278-bdd2bf59e732",
   "metadata": {},
   "outputs": [
    {
     "name": "stdout",
     "output_type": "stream",
     "text": [
      "True\n",
      "False\n",
      "True\n"
     ]
    }
   ],
   "source": [
    "print(\"Dalvan\" == \"Dalvan\")\n",
    "print(\"Dalvan\" == POD)\n",
    "print(\"Dalvan\" != POD)"
   ]
  },
  {
   "cell_type": "markdown",
   "id": "b3b9489f-5acd-472d-9cd0-bac7bfa2c39d",
   "metadata": {
    "deletable": false,
    "editable": false,
    "tags": []
   },
   "source": [
    "### Formatação"
   ]
  },
  {
   "cell_type": "code",
   "execution_count": 3,
   "id": "60664c3c-1184-4c68-8234-45e2312e068c",
   "metadata": {},
   "outputs": [
    {
     "name": "stdout",
     "output_type": "stream",
     "text": [
      "Aula de POD hoje é  sobre Strings!\n"
     ]
    }
   ],
   "source": [
    "POD0 = \"Aula de {} hoje é  sobre {}!\"\n",
    "disciplina = \"POD\"\n",
    "assunto=\"Strings\"\n",
    "POD=POD0.format(disciplina,assunto)\n",
    "print(POD)"
   ]
  },
  {
   "cell_type": "code",
   "execution_count": 8,
   "id": "1700f620",
   "metadata": {},
   "outputs": [
    {
     "name": "stdout",
     "output_type": "stream",
     "text": [
      "Aula de POD hoje é  sobre Strings!\n"
     ]
    }
   ],
   "source": [
    "POD0 = \"Aula de {0} hoje é  sobre {1}!\"\n",
    "disciplina = \"POD\"\n",
    "assunto=\"Strings\"\n",
    "POD=POD0.format(disciplina,assunto)\n",
    "print(POD)"
   ]
  },
  {
   "cell_type": "code",
   "execution_count": 10,
   "id": "e50cb3be",
   "metadata": {},
   "outputs": [
    {
     "name": "stdout",
     "output_type": "stream",
     "text": [
      "Aula de POD hoje é  sobre Strings!\n"
     ]
    }
   ],
   "source": [
    "POD0 = \"Aula de {dis} hoje é  sobre {ass}!\"\n",
    "disciplina = \"POD\"\n",
    "assunto=\"Strings\"\n",
    "POD=POD0.format(ass=assunto,dis=disciplina)\n",
    "print(POD)"
   ]
  },
  {
   "cell_type": "code",
   "execution_count": 12,
   "id": "140d4f4d",
   "metadata": {},
   "outputs": [
    {
     "name": "stdout",
     "output_type": "stream",
     "text": [
      "|Aula de POD hoje é  sobre Strings!      |\n",
      "|Aula de POD hoje é  sobre Strings!      |\n",
      "|      Aula de POD hoje é  sobre Strings!|\n",
      "|   Aula de POD hoje é  sobre Strings!   |\n"
     ]
    }
   ],
   "source": [
    "print('|{:40}|'.format(POD))\n",
    "print('|{:<40}|'.format(POD))\n",
    "print('|{:>40}|'.format(POD))\n",
    "print('|{:^40}|'.format(POD))"
   ]
  },
  {
   "cell_type": "code",
   "execution_count": 19,
   "id": "dc819778",
   "metadata": {},
   "outputs": [
    {
     "name": "stdout",
     "output_type": "stream",
     "text": [
      "Formatado = 2,458,962,344\n",
      "Formatado = 512.648\n"
     ]
    }
   ],
   "source": [
    "print('Formatado = {:,}'.format(2458962344))\n",
    "print('Formatado = {:.3f}'.format(100*5.1264796))"
   ]
  },
  {
   "cell_type": "code",
   "execution_count": 37,
   "id": "bc2cf543",
   "metadata": {},
   "outputs": [
    {
     "name": "stdout",
     "output_type": "stream",
     "text": [
      "Aula de POD hoje é sobre Strings!\n",
      "Aula de POD hoje é sobre Strings! POD Strings\n",
      "512.648\n"
     ]
    }
   ],
   "source": [
    "print(f\"Aula de {disciplina} hoje é sobre {assunto}!\")\n",
    "print(f\"Aula de {disciplina} hoje é sobre {assunto}!\", disciplina, assunto)\n",
    "x=(100*5.1264796)\n",
    "print(f\"{x:.3f}\")"
   ]
  },
  {
   "cell_type": "markdown",
   "id": "94772f67-e106-4a62-bf28-fed83e514be6",
   "metadata": {
    "deletable": false,
    "editable": false,
    "tags": []
   },
   "source": [
    "### Algumas dicas úteis"
   ]
  },
  {
   "cell_type": "code",
   "execution_count": 44,
   "id": "71af8f9c-056a-43d6-88df-8e2dc9f3fbbc",
   "metadata": {},
   "outputs": [
    {
     "name": "stdout",
     "output_type": "stream",
     "text": [
      "Aula de POD hoje é  sobre Strings!\n",
      "True\n",
      "True\n",
      "False\n",
      "False\n",
      "AULA DE POD HOJE É  SOBRE STRINGS!\n",
      "aula de pod hoje é  sobre strings!\n"
     ]
    }
   ],
   "source": [
    "print(POD)\n",
    "print(POD.startswith('A'))\n",
    "print(POD.endswith('!'))\n",
    "print(POD.istitle())\n",
    "print(POD.isupper())\n",
    "print(POD.upper())\n",
    "print(POD.lower())"
   ]
  },
  {
   "cell_type": "markdown",
   "id": "d4187776-ad6a-4d6a-8559-aac12dc43e55",
   "metadata": {
    "deletable": false,
    "editable": false,
    "tags": []
   },
   "source": [
    "# Exercícios de Fixação"
   ]
  },
  {
   "cell_type": "markdown",
   "id": "8e7987f2-6237-4ee8-80b0-fce8a842bf69",
   "metadata": {
    "deletable": false,
    "editable": false,
    "tags": []
   },
   "source": [
    "1. Converta a separação em vírgula por espaços em branco da string:\n",
    "   `\"dia,mês,ano,horas,total,nomes,semanas\"`"
   ]
  },
  {
   "cell_type": "code",
   "execution_count": null,
   "id": "5e62d037-ca9a-4258-8abd-9c0dd1abc2f9",
   "metadata": {},
   "outputs": [],
   "source": []
  },
  {
   "cell_type": "markdown",
   "id": "81e9abcb-2507-4b79-aa85-e3896b1c0404",
   "metadata": {
    "deletable": false,
    "editable": false,
    "tags": []
   },
   "source": [
    "2. Leia duas strings a serem informadas pelo usuário no terminal para\n",
    "    - Concatenar elas e mostrar na tela o resultado\n",
    "    - Mostrar na tela a string com todas as letras em maiúsculas\n",
    "    - Mostre na tela se a palavra \"Olá\" está contida nas strings informadas pelo usuário"
   ]
  },
  {
   "cell_type": "code",
   "execution_count": null,
   "id": "f3635b95-4ea5-472b-93f4-487225364fa6",
   "metadata": {},
   "outputs": [],
   "source": []
  },
  {
   "cell_type": "markdown",
   "id": "c58023fa-c972-4314-8eaf-7b7d4d97d3a0",
   "metadata": {},
   "source": [
    "# Mostrando todas as variáveis"
   ]
  },
  {
   "cell_type": "code",
   "execution_count": null,
   "id": "13edd849-7a02-4777-a28e-f73b8c3ed37a",
   "metadata": {},
   "outputs": [],
   "source": [
    "%whos"
   ]
  },
  {
   "cell_type": "markdown",
   "id": "e5f2f788-88ed-475b-bf9d-0821ad8f3c35",
   "metadata": {},
   "source": [
    "Em código python é possivel através dos seguintes métodos"
   ]
  },
  {
   "cell_type": "code",
   "execution_count": 54,
   "id": "840723ed-a5b2-4b34-9ccb-2644375903cb",
   "metadata": {},
   "outputs": [
    {
     "data": {
      "text/plain": [
       "{'__name__': '__main__',\n",
       " '__doc__': 'Automatically created module for IPython interactive environment',\n",
       " '__package__': None,\n",
       " '__loader__': None,\n",
       " '__spec__': None,\n",
       " '__builtin__': <module 'builtins' (built-in)>,\n",
       " '__builtins__': <module 'builtins' (built-in)>,\n",
       " '_ih': ['',\n",
       "  'print(\\'Aula de POD!\\')\\nprint(\"Aula de POD!\")',\n",
       "  'POD = \"\"\" Aula\\nde\\nPOD!\\n\"\"\"\\nprint(POD)',\n",
       "  'print(type(POD))',\n",
       "  'del POD\\nprint(POD)',\n",
       "  'POD1=\"Aula \"\\nPOD2=\"de \"\\nPOD3=\"POD!\"\\nPOD = POD1+POD2+POD3\\nprint(POD)',\n",
       "  'POD1=\"Aula\"\\nPOD2=\"de \"\\nPOD3=\"POD!\"\\nPOD = POD1+POD2+POD3\\nprint(POD)',\n",
       "  'print(len(POD))',\n",
       "  'POD1=\"Aula \"\\nPOD2=\"de \"\\nPOD3=\"POD!\"\\nPOD = POD1+POD2+POD3\\nprint(POD)',\n",
       "  'print(len(POD))',\n",
       "  'print(POD[0])',\n",
       "  'print(POD[0])\\nprint(POD[1])\\nprint(POD[2])\\nprint(POD[3])',\n",
       "  'print(POD[0])\\nprint(POD[1])\\nprint(POD[2])\\nprint(POD[3])',\n",
       "  \"POD[0]='a'\",\n",
       "  'print(POD[0:5])',\n",
       "  'print(POD[0:4])',\n",
       "  'print(POD[0:4])',\n",
       "  'print(POD[0:3])',\n",
       "  'print(POD[0:4])',\n",
       "  'print(POD[0:4])\\nprint(POD[:4])',\n",
       "  'print(POD[0:4])\\nprint(POD[:4])\\nprint(POD[8:])',\n",
       "  'print(POD[0:4])\\nprint(POD[:4])\\nprint(POD[8:12])',\n",
       "  'print(POD[0:4])\\nprint(POD[:4])',\n",
       "  'print(POD[8:12])\\nprint(POD[8:12:2])',\n",
       "  'print(POD[8:12])\\nprint(POD[8:12])',\n",
       "  'print(POD[-1])',\n",
       "  'print(POD[0])\\nprint(POD[1])\\nprint(POD[2])\\nprint(POD[3])',\n",
       "  'print(POD[-1])\\nprint(POD[-2])\\nprint(POD[-3])',\n",
       "  'print(POD[::-1])',\n",
       "  'print(POD[::-1])\\nprint(POD[::2])',\n",
       "  \"print('+'*20)\",\n",
       "  \"print('+'*20)\\nprint('string'*20)\",\n",
       "  \"print('+'*20)\\nprint('string'*20)\",\n",
       "  'print(POD[:4]*20)',\n",
       "  'print(POD[:4]+\" \"*20)',\n",
       "  'print((POD[:4]+\" \")*20)',\n",
       "  'POD.split(\" \")',\n",
       "  'lista=POD.split(\" \")\\nprint(lista)',\n",
       "  'lista=POD.split(\" \")\\nprint(lista)',\n",
       "  'print(POD.count())',\n",
       "  'print(POD.count(\" \"))',\n",
       "  'print(POD.count(\"a\"))',\n",
       "  'print(POD.count(\" \"))\\nprint(POD.count(\"a\"))',\n",
       "  'POD0= POD.replace(\"POD\", \"POD - Programação Orientada a Dados\")\\nprint(POD0)',\n",
       "  'POD0= POD.replace(\"POD\", \"Programação Orientada a Dados\")\\nprint(POD0)',\n",
       "  'print(POD.find(\"POD\"))',\n",
       "  'print(POD.find(\"XXX\"))',\n",
       "  'print(POD.find(\"POD\"))\\n\\nprint(POD.find(\"XXX\"))\\n\\nprint(POD.find(\"ad\"))',\n",
       "  'print(POD)\\nprint(POD.find(\"POD\"))\\n\\nprint(POD.find(\"XXX\"))\\n\\nprint(POD.find(\"ad\"))',\n",
       "  'print(POD + 10)',\n",
       "  'var=10\\nprint(POD + var)',\n",
       "  'var=10\\nprint(POD + str(var))',\n",
       "  'var=10\\n# print(POD + var)\\nprint(POD + str(var))',\n",
       "  'print(\"Dalvan\" == \"Dalvan\")\\nprint(\"Dalvan\" == POD)\\nprint(\"Dalvan\" != POD)',\n",
       "  'dir()\\nglobals()\\nlocals()'],\n",
       " '_oh': {36: ['Aula', 'de', 'POD!']},\n",
       " '_dh': ['/home/10087799/Downloads/aula-jupyter'],\n",
       " 'In': ['',\n",
       "  'print(\\'Aula de POD!\\')\\nprint(\"Aula de POD!\")',\n",
       "  'POD = \"\"\" Aula\\nde\\nPOD!\\n\"\"\"\\nprint(POD)',\n",
       "  'print(type(POD))',\n",
       "  'del POD\\nprint(POD)',\n",
       "  'POD1=\"Aula \"\\nPOD2=\"de \"\\nPOD3=\"POD!\"\\nPOD = POD1+POD2+POD3\\nprint(POD)',\n",
       "  'POD1=\"Aula\"\\nPOD2=\"de \"\\nPOD3=\"POD!\"\\nPOD = POD1+POD2+POD3\\nprint(POD)',\n",
       "  'print(len(POD))',\n",
       "  'POD1=\"Aula \"\\nPOD2=\"de \"\\nPOD3=\"POD!\"\\nPOD = POD1+POD2+POD3\\nprint(POD)',\n",
       "  'print(len(POD))',\n",
       "  'print(POD[0])',\n",
       "  'print(POD[0])\\nprint(POD[1])\\nprint(POD[2])\\nprint(POD[3])',\n",
       "  'print(POD[0])\\nprint(POD[1])\\nprint(POD[2])\\nprint(POD[3])',\n",
       "  \"POD[0]='a'\",\n",
       "  'print(POD[0:5])',\n",
       "  'print(POD[0:4])',\n",
       "  'print(POD[0:4])',\n",
       "  'print(POD[0:3])',\n",
       "  'print(POD[0:4])',\n",
       "  'print(POD[0:4])\\nprint(POD[:4])',\n",
       "  'print(POD[0:4])\\nprint(POD[:4])\\nprint(POD[8:])',\n",
       "  'print(POD[0:4])\\nprint(POD[:4])\\nprint(POD[8:12])',\n",
       "  'print(POD[0:4])\\nprint(POD[:4])',\n",
       "  'print(POD[8:12])\\nprint(POD[8:12:2])',\n",
       "  'print(POD[8:12])\\nprint(POD[8:12])',\n",
       "  'print(POD[-1])',\n",
       "  'print(POD[0])\\nprint(POD[1])\\nprint(POD[2])\\nprint(POD[3])',\n",
       "  'print(POD[-1])\\nprint(POD[-2])\\nprint(POD[-3])',\n",
       "  'print(POD[::-1])',\n",
       "  'print(POD[::-1])\\nprint(POD[::2])',\n",
       "  \"print('+'*20)\",\n",
       "  \"print('+'*20)\\nprint('string'*20)\",\n",
       "  \"print('+'*20)\\nprint('string'*20)\",\n",
       "  'print(POD[:4]*20)',\n",
       "  'print(POD[:4]+\" \"*20)',\n",
       "  'print((POD[:4]+\" \")*20)',\n",
       "  'POD.split(\" \")',\n",
       "  'lista=POD.split(\" \")\\nprint(lista)',\n",
       "  'lista=POD.split(\" \")\\nprint(lista)',\n",
       "  'print(POD.count())',\n",
       "  'print(POD.count(\" \"))',\n",
       "  'print(POD.count(\"a\"))',\n",
       "  'print(POD.count(\" \"))\\nprint(POD.count(\"a\"))',\n",
       "  'POD0= POD.replace(\"POD\", \"POD - Programação Orientada a Dados\")\\nprint(POD0)',\n",
       "  'POD0= POD.replace(\"POD\", \"Programação Orientada a Dados\")\\nprint(POD0)',\n",
       "  'print(POD.find(\"POD\"))',\n",
       "  'print(POD.find(\"XXX\"))',\n",
       "  'print(POD.find(\"POD\"))\\n\\nprint(POD.find(\"XXX\"))\\n\\nprint(POD.find(\"ad\"))',\n",
       "  'print(POD)\\nprint(POD.find(\"POD\"))\\n\\nprint(POD.find(\"XXX\"))\\n\\nprint(POD.find(\"ad\"))',\n",
       "  'print(POD + 10)',\n",
       "  'var=10\\nprint(POD + var)',\n",
       "  'var=10\\nprint(POD + str(var))',\n",
       "  'var=10\\n# print(POD + var)\\nprint(POD + str(var))',\n",
       "  'print(\"Dalvan\" == \"Dalvan\")\\nprint(\"Dalvan\" == POD)\\nprint(\"Dalvan\" != POD)',\n",
       "  'dir()\\nglobals()\\nlocals()'],\n",
       " 'Out': {36: ['Aula', 'de', 'POD!']},\n",
       " 'get_ipython': <bound method InteractiveShell.get_ipython of <ipykernel.zmqshell.ZMQInteractiveShell object at 0x7fa51fe8f580>>,\n",
       " 'exit': <IPython.core.autocall.ZMQExitAutocall at 0x7fa51ee63220>,\n",
       " 'quit': <IPython.core.autocall.ZMQExitAutocall at 0x7fa51ee63220>,\n",
       " '_': ['Aula', 'de', 'POD!'],\n",
       " '__': '',\n",
       " '___': '',\n",
       " '_i': 'print(\"Dalvan\" == \"Dalvan\")\\nprint(\"Dalvan\" == POD)\\nprint(\"Dalvan\" != POD)',\n",
       " '_ii': 'var=10\\n# print(POD + var)\\nprint(POD + str(var))',\n",
       " '_iii': 'var=10\\nprint(POD + str(var))',\n",
       " '_i1': 'print(\\'Aula de POD!\\')\\nprint(\"Aula de POD!\")',\n",
       " '_i2': 'POD = \"\"\" Aula\\nde\\nPOD!\\n\"\"\"\\nprint(POD)',\n",
       " '_i3': 'print(type(POD))',\n",
       " '_i4': 'del POD\\nprint(POD)',\n",
       " '_i5': 'POD1=\"Aula \"\\nPOD2=\"de \"\\nPOD3=\"POD!\"\\nPOD = POD1+POD2+POD3\\nprint(POD)',\n",
       " 'POD1': 'Aula ',\n",
       " 'POD2': 'de ',\n",
       " 'POD3': 'POD!',\n",
       " 'POD': 'Aula de POD!',\n",
       " '_i6': 'POD1=\"Aula\"\\nPOD2=\"de \"\\nPOD3=\"POD!\"\\nPOD = POD1+POD2+POD3\\nprint(POD)',\n",
       " '_i7': 'print(len(POD))',\n",
       " '_i8': 'POD1=\"Aula \"\\nPOD2=\"de \"\\nPOD3=\"POD!\"\\nPOD = POD1+POD2+POD3\\nprint(POD)',\n",
       " '_i9': 'print(len(POD))',\n",
       " '_i10': 'print(POD[0])',\n",
       " '_i11': 'print(POD[0])\\nprint(POD[1])\\nprint(POD[2])\\nprint(POD[3])',\n",
       " '_i12': 'print(POD[0])\\nprint(POD[1])\\nprint(POD[2])\\nprint(POD[3])',\n",
       " '_i13': \"POD[0]='a'\",\n",
       " '_i14': 'print(POD[0:5])',\n",
       " '_i15': 'print(POD[0:4])',\n",
       " '_i16': 'print(POD[0:4])',\n",
       " '_i17': 'print(POD[0:3])',\n",
       " '_i18': 'print(POD[0:4])',\n",
       " '_i19': 'print(POD[0:4])\\nprint(POD[:4])',\n",
       " '_i20': 'print(POD[0:4])\\nprint(POD[:4])\\nprint(POD[8:])',\n",
       " '_i21': 'print(POD[0:4])\\nprint(POD[:4])\\nprint(POD[8:12])',\n",
       " '_i22': 'print(POD[0:4])\\nprint(POD[:4])',\n",
       " '_i23': 'print(POD[8:12])\\nprint(POD[8:12:2])',\n",
       " '_i24': 'print(POD[8:12])\\nprint(POD[8:12])',\n",
       " '_i25': 'print(POD[-1])',\n",
       " '_i26': 'print(POD[0])\\nprint(POD[1])\\nprint(POD[2])\\nprint(POD[3])',\n",
       " '_i27': 'print(POD[-1])\\nprint(POD[-2])\\nprint(POD[-3])',\n",
       " '_i28': 'print(POD[::-1])',\n",
       " '_i29': 'print(POD[::-1])\\nprint(POD[::2])',\n",
       " '_i30': \"print('+'*20)\",\n",
       " '_i31': \"print('+'*20)\\nprint('string'*20)\",\n",
       " '_i32': \"print('+'*20)\\nprint('string'*20)\",\n",
       " '_i33': 'print(POD[:4]*20)',\n",
       " '_i34': 'print(POD[:4]+\" \"*20)',\n",
       " '_i35': 'print((POD[:4]+\" \")*20)',\n",
       " '_i36': 'POD.split(\" \")',\n",
       " '_36': ['Aula', 'de', 'POD!'],\n",
       " '_i37': 'lista=POD.split(\" \")\\nprint(lista)',\n",
       " 'lista': ['Aula', 'de', 'POD!'],\n",
       " '_i38': 'lista=POD.split(\" \")\\nprint(lista)',\n",
       " '_i39': 'print(POD.count())',\n",
       " '_i40': 'print(POD.count(\" \"))',\n",
       " '_i41': 'print(POD.count(\"a\"))',\n",
       " '_i42': 'print(POD.count(\" \"))\\nprint(POD.count(\"a\"))',\n",
       " '_i43': 'POD0= POD.replace(\"POD\", \"POD - Programação Orientada a Dados\")\\nprint(POD0)',\n",
       " 'POD0': 'Aula de Programação Orientada a Dados!',\n",
       " '_i44': 'POD0= POD.replace(\"POD\", \"Programação Orientada a Dados\")\\nprint(POD0)',\n",
       " '_i45': 'print(POD.find(\"POD\"))',\n",
       " '_i46': 'print(POD.find(\"XXX\"))',\n",
       " '_i47': 'print(POD.find(\"POD\"))\\n\\nprint(POD.find(\"XXX\"))\\n\\nprint(POD.find(\"ad\"))',\n",
       " '_i48': 'print(POD)\\nprint(POD.find(\"POD\"))\\n\\nprint(POD.find(\"XXX\"))\\n\\nprint(POD.find(\"ad\"))',\n",
       " '_i49': 'print(POD + 10)',\n",
       " '_i50': 'var=10\\nprint(POD + var)',\n",
       " 'var': 10,\n",
       " '_i51': 'var=10\\nprint(POD + str(var))',\n",
       " '_i52': 'var=10\\n# print(POD + var)\\nprint(POD + str(var))',\n",
       " '_i53': 'print(\"Dalvan\" == \"Dalvan\")\\nprint(\"Dalvan\" == POD)\\nprint(\"Dalvan\" != POD)',\n",
       " '_i54': 'dir()\\nglobals()\\nlocals()'}"
      ]
     },
     "execution_count": 54,
     "metadata": {},
     "output_type": "execute_result"
    }
   ],
   "source": [
    "dir()\n",
    "globals()\n",
    "locals()"
   ]
  },
  {
   "cell_type": "markdown",
   "id": "79162efc-8b59-44aa-aa93-841101683a6e",
   "metadata": {},
   "source": [
    "# Lista de Métodos para Strings em Ordem Alfabética\n",
    "\n",
    "- `capitalize()`     Converte o primeiro caracter em maiúscula\n",
    "- `casefold()`       Converte toda string em minúsculas\n",
    "- `center()`         Retorna uma string com alinhamento centralizado\n",
    "- `count()`          Retorna as ocorrências de uma substring ou valor\n",
    "- `encode()`         Retorna a versão de codificação da string\n",
    "- `endswith()`       Retorna verdadeiro se a string termina com um valor especificado\n",
    "- `expandtabs()`     Retorna uma string trocando tabs por espaços\n",
    "- `find()`           Pesquisa por uma string e retorna a posição se encontra, senão -1\n",
    "- `format()`         Formata valores em uma string\n",
    "- `format_map()`     Formata valores em uma string\n",
    "- `index()`          Pesquisa por uma string e retorna a posição se encontra\n",
    "- `isalnum()`        Retorna verdadeiro se todos caracteres da string são alfanuméricos\n",
    "- `isalpha()`        Retorna verdadeiro se todos caracteres da string estão no alfabeto\n",
    "- `isdecimal()`      Retorna verdadeiro se todos caracteres da string são decimais\n",
    "- `isdigit()`        Retorna verdadeiro se todos caracteres da string são digitos\n",
    "- `isidentifier()`   Retorna verdadeiro se a string é um identificador\n",
    "- `islower()`        Retorna verdadeiro se todos caracteres da string são minúsculas\n",
    "- `isnumeric()`      Retorna verdadeiro se todos caracteres da string são números\n",
    "- `isprintable()`    Retorna verdadeiro se todos caracteres da string são imprimiveis\n",
    "- `isspace()`        Retorna verdadeiro se todos caracteres da string são espaços em branco\n",
    "- `istitle()`        Retorna verdadeiro se a string segue a regra de um título\n",
    "- `isupper()`        Retorna verdadeiro se todos caracteres da string são maiúsculas\n",
    "- `join()`           Junta os elemento de um objeto interável no fim de uma string\n",
    "- `ljust()`          Retorna a string justificada a esquerda\n",
    "- `lower()`          Converte uma string em minúsculas\n",
    "- `lstrip()`         Retorna uma string sem espaços em branco extra a esquerda\n",
    "- `maketrans()`      Retorna uma tabela que pode ser usada no método `translate()`\n",
    "- `partition()`      Retorna uma tupla, no qual a string é divida em três partes\n",
    "- `replace()`        Retorna uma string substituindo o valor especificado com o valor na string\n",
    "- `rfind()`          Pesquisa a string para um valor especificado e retorna a última posição onde ela foi encontrada\n",
    "- `rindex()`         Pesquisa a string para um valor especificado e retorna a última posição onde ela foi encontrada\n",
    "- `rjust()`          Retorna a string justificada a direita\n",
    "- `rpartition()`     Retorna uma tupla, no qual a string é divida em três partes\n",
    "- `rsplit()`         Particiona a string pelo separador especificado e retorna uma lista\n",
    "- `rstrip()`         Retorna uma string sem espaços em branco extra a direita\n",
    "- `split()`          Particiona a string pelo separador especificado e retorna uma lista\n",
    "- `splitlines()`     Particiona a string em uma nova linha e retorna uma lista (retorna a linha como uma lista)\n",
    "- `startswith()`     Retorna verdadeiro se a string começa com o valor especificado\n",
    "- `strip()`          Retorna uma string sem espaços em branco extras\n",
    "- `swapcase()`       Troca maiúsculas por minúscula e vice-versa\n",
    "- `title()`          Converte o primeiro caracter de cada palavra em maiúscula\n",
    "- `translate()`      Retorna uma string traduzida\n",
    "- `upper()`          Converte uma string em maiúscula\n",
    "- `zfill()`          Preenche uma string com um número de valores até o inicio"
   ]
  }
 ],
 "metadata": {
  "kernelspec": {
   "display_name": "Python 3 (ipykernel)",
   "language": "python",
   "name": "python3"
  },
  "language_info": {
   "codemirror_mode": {
    "name": "ipython",
    "version": 3
   },
   "file_extension": ".py",
   "mimetype": "text/x-python",
   "name": "python",
   "nbconvert_exporter": "python",
   "pygments_lexer": "ipython3",
   "version": "3.8.8"
  }
 },
 "nbformat": 4,
 "nbformat_minor": 5
}
